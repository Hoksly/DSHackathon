{
 "cells": [
  {
   "cell_type": "code",
   "execution_count": 1,
   "id": "6d35b2e2",
   "metadata": {},
   "outputs": [],
   "source": [
    "import pandas as pd\n",
    "import numpy as np\n"
   ]
  },
  {
   "cell_type": "code",
   "execution_count": 2,
   "id": "d4c0aeee",
   "metadata": {},
   "outputs": [
    {
     "data": {
      "text/plain": [
       "(1467832, 63)"
      ]
     },
     "execution_count": 2,
     "metadata": {},
     "output_type": "execute_result"
    }
   ],
   "source": [
    "raw_data = pd.read_csv(\"data.csv\")\n",
    "raw_data.shape"
   ]
  },
  {
   "cell_type": "code",
   "execution_count": 3,
   "id": "20498a84",
   "metadata": {},
   "outputs": [
    {
     "data": {
      "text/plain": [
       "Index(['total_sessions_day0', 'total_sessions_day1', 'total_sessions_day3',\n",
       "       'total_sessions_day7', 'chapters_finished_day0',\n",
       "       'chapters_finished_day1', 'chapters_finished_day3',\n",
       "       'chapters_finished_day7', 'chapters_opened_day0',\n",
       "       'chapters_opened_day1', 'chapters_opened_day3', 'chapters_opened_day7',\n",
       "       'chapters_closed_day0', 'chapters_closed_day1', 'chapters_closed_day3',\n",
       "       'chapters_closed_day7', 'diamonds_received_day0',\n",
       "       'diamonds_received_day1', 'diamonds_received_day3',\n",
       "       'diamonds_received_day7', 'diamonds_spent_day0', 'diamonds_spent_day1',\n",
       "       'diamonds_spent_day3', 'diamonds_spent_day7', 'tickets_spent_day0',\n",
       "       'tickets_spent_day1', 'tickets_spent_day3', 'tickets_spent_day7',\n",
       "       'retained_day1', 'retained_day3', 'retained_day7',\n",
       "       'chapters_finished_session1', 'chapters_finished_session3',\n",
       "       'chapters_finished_session9', 'chapters_opened_session1',\n",
       "       'chapters_opened_session3', 'chapters_opened_session9',\n",
       "       'chapters_closed_session1', 'chapters_closed_session3',\n",
       "       'chapters_closed_session9', 'diamonds_spent_session1',\n",
       "       'diamonds_spent_session3', 'diamonds_spent_session9',\n",
       "       'tickets_spent_session1', 'tickets_spent_session3',\n",
       "       'tickets_spent_session9', 'app_sub_ltv_day0', 'app_sub_ltv_day1',\n",
       "       'app_sub_ltv_day3', 'app_iap_ltv_day0', 'app_iap_ltv_day1',\n",
       "       'app_iap_ltv_day3', 'media_source', 'install_date', 'country_code',\n",
       "       'ad_ltv_day0', 'ad_ltv_day1', 'ad_ltv_day3', 'platform',\n",
       "       'target_sub_ltv_day30', 'target_iap_ltv_day30', 'target_ad_ltv_day30',\n",
       "       'target_full_ltv_day30'],\n",
       "      dtype='object')"
      ]
     },
     "execution_count": 3,
     "metadata": {},
     "output_type": "execute_result"
    }
   ],
   "source": [
    "raw_data.columns"
   ]
  },
  {
   "cell_type": "code",
   "execution_count": 4,
   "id": "facc4512",
   "metadata": {},
   "outputs": [],
   "source": [
    "platform_dummies = pd.get_dummies(raw_data['platform'], prefix = 'platform')\n",
    "media_dummies = pd.get_dummies(raw_data['media_source'], prefix = '')\n",
    "country_dummies = pd.get_dummies(raw_data['country_code'], prefix = '')"
   ]
  },
  {
   "cell_type": "code",
   "execution_count": 5,
   "id": "48ddd808",
   "metadata": {},
   "outputs": [
    {
     "data": {
      "text/plain": [
       "(1467832, 313)"
      ]
     },
     "execution_count": 5,
     "metadata": {},
     "output_type": "execute_result"
    }
   ],
   "source": [
    "dummy_data = pd.concat([raw_data, platform_dummies, media_dummies, country_dummies], axis = 1)\n",
    "dummy_data.shape"
   ]
  },
  {
   "cell_type": "code",
   "execution_count": 6,
   "id": "2f601404",
   "metadata": {},
   "outputs": [
    {
     "data": {
      "text/plain": [
       "(1467832, 310)"
      ]
     },
     "execution_count": 6,
     "metadata": {},
     "output_type": "execute_result"
    }
   ],
   "source": [
    "dummy_data.drop('platform', axis = 1, inplace = True)\n",
    "dummy_data.drop('country_code', axis = 1, inplace = True)\n",
    "dummy_data.drop('media_source', axis = 1, inplace = True)\n",
    "\n",
    "\n",
    "\n",
    "dummy_data.shape"
   ]
  },
  {
   "cell_type": "code",
   "execution_count": 7,
   "id": "ddb3ca65",
   "metadata": {
    "scrolled": true
   },
   "outputs": [
    {
     "data": {
      "text/plain": [
       "'2022-01-24'"
      ]
     },
     "execution_count": 7,
     "metadata": {},
     "output_type": "execute_result"
    }
   ],
   "source": [
    "raw_data['install_date'][120000]"
   ]
  },
  {
   "cell_type": "code",
   "execution_count": 8,
   "id": "e8501bc0",
   "metadata": {},
   "outputs": [
    {
     "data": {
      "text/plain": [
       "str"
      ]
     },
     "execution_count": 8,
     "metadata": {},
     "output_type": "execute_result"
    }
   ],
   "source": [
    "type(raw_data['install_date'][0])"
   ]
  },
  {
   "cell_type": "code",
   "execution_count": 9,
   "id": "795f912f",
   "metadata": {},
   "outputs": [],
   "source": [
    "from datetime import datetime\n",
    "\"\"\"\n",
    "Data needed to be transformed into:\n",
    "1) Time since 1970 (Unix date) continuous\n",
    "2) Day of a year [1, 365] categorical\n",
    "3) Month of a year [1, 12] categorical\n",
    "4) Day of a week in [1, 7] categorical\n",
    "5) Is weekend binary\n",
    "\"\"\"\n",
    "\n",
    "\n",
    "def transform_date(dates_frame: pd.DataFrame): # return pd.DataFrame\n",
    "    \n",
    "    py_dates = []\n",
    "    for el in dates_frame:\n",
    "        py_dates.append(datetime.strptime(el, '%Y-%m-%d'))\n",
    "\n",
    "    \n",
    "    dates_list = [] # Unix time \n",
    "    day_of_a_year_list = [] # Day of year\n",
    "    month_of_a_year = [] # month of a year\n",
    "    day_of_a_week = [] # day of a week\n",
    "    is_weekend = [] # is day a weekend \n",
    "\n",
    "\n",
    "    for el in py_dates:\n",
    "        dates_list.append(el.strftime(\"%s\"))\n",
    "        day_of_a_year_list.append(el.timetuple().tm_yday)\n",
    "        month_of_a_year.append(el.timetuple().tm_mon)\n",
    "        day_of_a_week.append(el.weekday())\n",
    "        is_weekend.append((el.weekday() > 4))\n",
    "    \n",
    "    \n",
    "    a = pd.DataFrame({\"_\":day_of_a_year_list})\n",
    "    b = pd.DataFrame({\"_\":day_of_a_week})\n",
    "    c = pd.DataFrame({\"_\": month_of_a_year})\n",
    "                     \n",
    "    d_year_day = pd.get_dummies(a[\"_\"], prefix = 'day')\n",
    "    d_month_of_year = pd.get_dummies(c[\"_\"], prefix = 'month')\n",
    "    d_weekday = pd.get_dummies(b[\"_\"], prefix = 'weekday')\n",
    "    d_weekend = pd.DataFrame({\"is_weekend\" : is_weekend})\n",
    "\n",
    "    print(d_year_day.shape, d_month_of_year.shape, d_weekday.shape, d_weekend.shape, sep = '\\n')\n",
    "    \n",
    "    return pd.concat([pd.DataFrame({\"unix date\": dates_list}),\n",
    "                        d_year_day, d_month_of_year, d_weekday, d_weekend], axis = 1)\n",
    "\n"
   ]
  },
  {
   "cell_type": "code",
   "execution_count": 10,
   "id": "30d6d7de",
   "metadata": {},
   "outputs": [
    {
     "name": "stdout",
     "output_type": "stream",
     "text": [
      "(1467832, 62)\n",
      "(1467832, 2)\n",
      "(1467832, 7)\n",
      "(1467832, 1)\n"
     ]
    },
    {
     "data": {
      "text/plain": [
       "(1467832, 382)"
      ]
     },
     "execution_count": 10,
     "metadata": {},
     "output_type": "execute_result"
    }
   ],
   "source": [
    "dummy_data = pd.concat([dummy_data,transform_date(raw_data['install_date'])], axis = 1)\n",
    "dummy_data.drop('install_date', axis = 1, inplace=True)\n",
    "dummy_data.shape\n",
    "\n",
    "# Now dataframe is fully prepeared for machine learning"
   ]
  },
  {
   "cell_type": "code",
   "execution_count": 8,
   "id": "e088b6ec",
   "metadata": {},
   "outputs": [],
   "source": [
    "from sklearn.linear_model import LinearRegression\n",
    "from sklearn.model_selection import train_test_split"
   ]
  },
  {
   "cell_type": "code",
   "execution_count": 12,
   "id": "ff7f9c70",
   "metadata": {},
   "outputs": [
    {
     "name": "stderr",
     "output_type": "stream",
     "text": [
      "<ipython-input-12-8439f0fa05a0>:4: FutureWarning: In a future version of pandas all arguments of DataFrame.drop except for the argument 'labels' will be keyword-only.\n",
      "  train_set_y = train.drop(train.columns.difference(['target_sub_ltv_day30', 'target_iap_ltv_day30', 'target_ad_ltv_day30',\n",
      "<ipython-input-12-8439f0fa05a0>:7: SettingWithCopyWarning: \n",
      "A value is trying to be set on a copy of a slice from a DataFrame\n",
      "\n",
      "See the caveats in the documentation: https://pandas.pydata.org/pandas-docs/stable/user_guide/indexing.html#returning-a-view-versus-a-copy\n",
      "  train.drop(['target_sub_ltv_day30', 'target_iap_ltv_day30', 'target_ad_ltv_day30',\n",
      "<ipython-input-12-8439f0fa05a0>:11: FutureWarning: In a future version of pandas all arguments of DataFrame.drop except for the argument 'labels' will be keyword-only.\n",
      "  test_set_y = test.drop(train.columns.difference(['target_sub_ltv_day30', 'target_iap_ltv_day30', 'target_ad_ltv_day30',\n",
      "<ipython-input-12-8439f0fa05a0>:14: SettingWithCopyWarning: \n",
      "A value is trying to be set on a copy of a slice from a DataFrame\n",
      "\n",
      "See the caveats in the documentation: https://pandas.pydata.org/pandas-docs/stable/user_guide/indexing.html#returning-a-view-versus-a-copy\n",
      "  test.drop(['target_sub_ltv_day30', 'target_iap_ltv_day30', 'target_ad_ltv_day30',\n"
     ]
    },
    {
     "data": {
      "text/plain": [
       "(147, 4)"
      ]
     },
     "execution_count": 12,
     "metadata": {},
     "output_type": "execute_result"
    }
   ],
   "source": [
    "# Spliting dataset for training \n",
    "train, test = train_test_split(dummy_data, test_size=0.0001)\n",
    "\n",
    "train_set_y = train.drop(train.columns.difference(['target_sub_ltv_day30', 'target_iap_ltv_day30', 'target_ad_ltv_day30',\n",
    "       'target_full_ltv_day30']), 1) \n",
    "\n",
    "train.drop(['target_sub_ltv_day30', 'target_iap_ltv_day30', 'target_ad_ltv_day30',\n",
    "       'target_full_ltv_day30'], axis = 1, inplace = True)\n",
    "\n",
    "\n",
    "test_set_y = test.drop(train.columns.difference(['target_sub_ltv_day30', 'target_iap_ltv_day30', 'target_ad_ltv_day30',\n",
    "       'target_full_ltv_day30']), 1) \n",
    "\n",
    "test.drop(['target_sub_ltv_day30', 'target_iap_ltv_day30', 'target_ad_ltv_day30',\n",
    "       'target_full_ltv_day30'], axis = 1, inplace = True)\n",
    "\n",
    "# just synonims\n",
    "\n",
    "train_set_x = train\n",
    "test_set_x = test\n",
    "\n",
    "train_set_x.shape\n",
    "train_set_y.shape\n",
    "test_set_x.shape\n",
    "test_set_y.shape\n"
   ]
  },
  {
   "cell_type": "code",
   "execution_count": 13,
   "id": "f0f537f1",
   "metadata": {},
   "outputs": [
    {
     "data": {
      "text/plain": [
       "(1467685, 305)"
      ]
     },
     "execution_count": 13,
     "metadata": {},
     "output_type": "execute_result"
    }
   ],
   "source": [
    "train_set_x.shape"
   ]
  },
  {
   "cell_type": "code",
   "execution_count": 14,
   "id": "5cb662c2",
   "metadata": {},
   "outputs": [
    {
     "data": {
      "text/plain": [
       "(1467685, 4)"
      ]
     },
     "execution_count": 14,
     "metadata": {},
     "output_type": "execute_result"
    }
   ],
   "source": [
    "train_set_y.shape"
   ]
  },
  {
   "cell_type": "code",
   "execution_count": 15,
   "id": "8c2c126a",
   "metadata": {},
   "outputs": [
    {
     "data": {
      "text/plain": [
       "(147, 305)"
      ]
     },
     "execution_count": 15,
     "metadata": {},
     "output_type": "execute_result"
    }
   ],
   "source": [
    "test_set_x.shape"
   ]
  },
  {
   "cell_type": "code",
   "execution_count": 28,
   "id": "e83e929a",
   "metadata": {},
   "outputs": [
    {
     "data": {
      "text/html": [
       "<div>\n",
       "<style scoped>\n",
       "    .dataframe tbody tr th:only-of-type {\n",
       "        vertical-align: middle;\n",
       "    }\n",
       "\n",
       "    .dataframe tbody tr th {\n",
       "        vertical-align: top;\n",
       "    }\n",
       "\n",
       "    .dataframe thead th {\n",
       "        text-align: right;\n",
       "    }\n",
       "</style>\n",
       "<table border=\"1\" class=\"dataframe\">\n",
       "  <thead>\n",
       "    <tr style=\"text-align: right;\">\n",
       "      <th></th>\n",
       "      <th>target_sub_ltv_day30</th>\n",
       "      <th>target_iap_ltv_day30</th>\n",
       "      <th>target_ad_ltv_day30</th>\n",
       "      <th>target_full_ltv_day30</th>\n",
       "    </tr>\n",
       "  </thead>\n",
       "  <tbody>\n",
       "    <tr>\n",
       "      <th>1444320</th>\n",
       "      <td>0.0</td>\n",
       "      <td>0.00000</td>\n",
       "      <td>0.000000</td>\n",
       "      <td>0.000000</td>\n",
       "    </tr>\n",
       "    <tr>\n",
       "      <th>258693</th>\n",
       "      <td>0.0</td>\n",
       "      <td>0.00000</td>\n",
       "      <td>0.000000</td>\n",
       "      <td>0.000000</td>\n",
       "    </tr>\n",
       "    <tr>\n",
       "      <th>1136736</th>\n",
       "      <td>0.0</td>\n",
       "      <td>0.40409</td>\n",
       "      <td>0.050822</td>\n",
       "      <td>0.454912</td>\n",
       "    </tr>\n",
       "    <tr>\n",
       "      <th>1092325</th>\n",
       "      <td>0.0</td>\n",
       "      <td>0.00000</td>\n",
       "      <td>0.000000</td>\n",
       "      <td>0.000000</td>\n",
       "    </tr>\n",
       "    <tr>\n",
       "      <th>528678</th>\n",
       "      <td>0.0</td>\n",
       "      <td>0.00000</td>\n",
       "      <td>0.000000</td>\n",
       "      <td>0.000000</td>\n",
       "    </tr>\n",
       "    <tr>\n",
       "      <th>...</th>\n",
       "      <td>...</td>\n",
       "      <td>...</td>\n",
       "      <td>...</td>\n",
       "      <td>...</td>\n",
       "    </tr>\n",
       "    <tr>\n",
       "      <th>345002</th>\n",
       "      <td>0.0</td>\n",
       "      <td>0.00000</td>\n",
       "      <td>0.000000</td>\n",
       "      <td>0.000000</td>\n",
       "    </tr>\n",
       "    <tr>\n",
       "      <th>783683</th>\n",
       "      <td>0.0</td>\n",
       "      <td>0.00000</td>\n",
       "      <td>0.000000</td>\n",
       "      <td>0.000000</td>\n",
       "    </tr>\n",
       "    <tr>\n",
       "      <th>1145602</th>\n",
       "      <td>0.0</td>\n",
       "      <td>0.00000</td>\n",
       "      <td>0.000000</td>\n",
       "      <td>0.000000</td>\n",
       "    </tr>\n",
       "    <tr>\n",
       "      <th>550303</th>\n",
       "      <td>0.0</td>\n",
       "      <td>0.00000</td>\n",
       "      <td>0.000000</td>\n",
       "      <td>0.000000</td>\n",
       "    </tr>\n",
       "    <tr>\n",
       "      <th>268689</th>\n",
       "      <td>0.0</td>\n",
       "      <td>0.00000</td>\n",
       "      <td>0.000000</td>\n",
       "      <td>0.000000</td>\n",
       "    </tr>\n",
       "  </tbody>\n",
       "</table>\n",
       "<p>147 rows × 4 columns</p>\n",
       "</div>"
      ],
      "text/plain": [
       "         target_sub_ltv_day30  target_iap_ltv_day30  target_ad_ltv_day30  \\\n",
       "1444320                   0.0               0.00000             0.000000   \n",
       "258693                    0.0               0.00000             0.000000   \n",
       "1136736                   0.0               0.40409             0.050822   \n",
       "1092325                   0.0               0.00000             0.000000   \n",
       "528678                    0.0               0.00000             0.000000   \n",
       "...                       ...                   ...                  ...   \n",
       "345002                    0.0               0.00000             0.000000   \n",
       "783683                    0.0               0.00000             0.000000   \n",
       "1145602                   0.0               0.00000             0.000000   \n",
       "550303                    0.0               0.00000             0.000000   \n",
       "268689                    0.0               0.00000             0.000000   \n",
       "\n",
       "         target_full_ltv_day30  \n",
       "1444320               0.000000  \n",
       "258693                0.000000  \n",
       "1136736               0.454912  \n",
       "1092325               0.000000  \n",
       "528678                0.000000  \n",
       "...                        ...  \n",
       "345002                0.000000  \n",
       "783683                0.000000  \n",
       "1145602               0.000000  \n",
       "550303                0.000000  \n",
       "268689                0.000000  \n",
       "\n",
       "[147 rows x 4 columns]"
      ]
     },
     "execution_count": 28,
     "metadata": {},
     "output_type": "execute_result"
    }
   ],
   "source": [
    "#reg = LinearRegression().fit(train_set_x, train_set_y)\n",
    "#reg.score(train_set_x, train_set_y)\n",
    "\n",
    "# such colums as 'total_sessions_day0', 'total_sessions_day1', 'total_sessions_day3', 'total_sessions_day7' \n",
    "# can contain nan values \n",
    "\n",
    "train_set_x.fillna(0)\n",
    "test_set_x.fillna(0)\n",
    "\n",
    "train_set_y.fillna(0)\n",
    "test_set_y.fillna(0)"
   ]
  },
  {
   "cell_type": "code",
   "execution_count": 31,
   "id": "055a76b3",
   "metadata": {},
   "outputs": [],
   "source": [
    "# Training simple logistoic regression\n",
    "\n",
    "#unfortunately now it throws error about containing infinity. IDK where they are, so ...\n",
    "\n",
    "#reg = LinearRegression().fit(train_set_x, train_set_y)\n",
    "#reg.score(train_set_x, train_set_y)"
   ]
  },
  {
   "cell_type": "code",
   "execution_count": null,
   "id": "b4c30255",
   "metadata": {},
   "outputs": [],
   "source": []
  },
  {
   "cell_type": "code",
   "execution_count": null,
   "id": "a313933a",
   "metadata": {},
   "outputs": [],
   "source": []
  },
  {
   "cell_type": "code",
   "execution_count": null,
   "id": "1206e71d",
   "metadata": {},
   "outputs": [],
   "source": []
  },
  {
   "cell_type": "code",
   "execution_count": null,
   "id": "fe49eb57",
   "metadata": {},
   "outputs": [],
   "source": []
  },
  {
   "cell_type": "code",
   "execution_count": null,
   "id": "ff9737e2",
   "metadata": {},
   "outputs": [],
   "source": []
  }
 ],
 "metadata": {
  "kernelspec": {
   "display_name": "Python 3 (ipykernel)",
   "language": "python",
   "name": "python3"
  },
  "language_info": {
   "codemirror_mode": {
    "name": "ipython",
    "version": 3
   },
   "file_extension": ".py",
   "mimetype": "text/x-python",
   "name": "python",
   "nbconvert_exporter": "python",
   "pygments_lexer": "ipython3",
   "version": "3.8.5"
  }
 },
 "nbformat": 4,
 "nbformat_minor": 5
}
