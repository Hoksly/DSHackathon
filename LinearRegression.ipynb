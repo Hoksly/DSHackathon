{
 "cells": [
  {
   "cell_type": "code",
   "execution_count": 1,
   "id": "ba290467",
   "metadata": {},
   "outputs": [],
   "source": [
    "import pandas as pd\n",
    "import numpy as np\n"
   ]
  },
  {
   "cell_type": "code",
   "execution_count": 2,
   "id": "d11a2928",
   "metadata": {},
   "outputs": [
    {
     "data": {
      "text/plain": [
       "(1467832, 63)"
      ]
     },
     "execution_count": 2,
     "metadata": {},
     "output_type": "execute_result"
    }
   ],
   "source": [
    "raw_data = pd.read_csv(\"data.csv\")\n",
    "raw_data.shape"
   ]
  },
  {
   "cell_type": "code",
   "execution_count": 3,
   "id": "26b0a902",
   "metadata": {},
   "outputs": [
    {
     "data": {
      "text/plain": [
       "Index(['total_sessions_day0', 'total_sessions_day1', 'total_sessions_day3',\n",
       "       'total_sessions_day7', 'chapters_finished_day0',\n",
       "       'chapters_finished_day1', 'chapters_finished_day3',\n",
       "       'chapters_finished_day7', 'chapters_opened_day0',\n",
       "       'chapters_opened_day1', 'chapters_opened_day3', 'chapters_opened_day7',\n",
       "       'chapters_closed_day0', 'chapters_closed_day1', 'chapters_closed_day3',\n",
       "       'chapters_closed_day7', 'diamonds_received_day0',\n",
       "       'diamonds_received_day1', 'diamonds_received_day3',\n",
       "       'diamonds_received_day7', 'diamonds_spent_day0', 'diamonds_spent_day1',\n",
       "       'diamonds_spent_day3', 'diamonds_spent_day7', 'tickets_spent_day0',\n",
       "       'tickets_spent_day1', 'tickets_spent_day3', 'tickets_spent_day7',\n",
       "       'retained_day1', 'retained_day3', 'retained_day7',\n",
       "       'chapters_finished_session1', 'chapters_finished_session3',\n",
       "       'chapters_finished_session9', 'chapters_opened_session1',\n",
       "       'chapters_opened_session3', 'chapters_opened_session9',\n",
       "       'chapters_closed_session1', 'chapters_closed_session3',\n",
       "       'chapters_closed_session9', 'diamonds_spent_session1',\n",
       "       'diamonds_spent_session3', 'diamonds_spent_session9',\n",
       "       'tickets_spent_session1', 'tickets_spent_session3',\n",
       "       'tickets_spent_session9', 'app_sub_ltv_day0', 'app_sub_ltv_day1',\n",
       "       'app_sub_ltv_day3', 'app_iap_ltv_day0', 'app_iap_ltv_day1',\n",
       "       'app_iap_ltv_day3', 'media_source', 'install_date', 'country_code',\n",
       "       'ad_ltv_day0', 'ad_ltv_day1', 'ad_ltv_day3', 'platform',\n",
       "       'target_sub_ltv_day30', 'target_iap_ltv_day30', 'target_ad_ltv_day30',\n",
       "       'target_full_ltv_day30'],\n",
       "      dtype='object')"
      ]
     },
     "execution_count": 3,
     "metadata": {},
     "output_type": "execute_result"
    }
   ],
   "source": [
    "raw_data.columns"
   ]
  },
  {
   "cell_type": "code",
   "execution_count": 4,
   "id": "a6f97afc",
   "metadata": {},
   "outputs": [
    {
     "name": "stdout",
     "output_type": "stream",
     "text": [
      "   _COUNTRY_0  _COUNTRY_1  _COUNTRY_10  _COUNTRY_100  _COUNTRY_101  \\\n",
      "0           0           0            0             0             0   \n",
      "1           0           0            0             0             0   \n",
      "2           0           0            0             0             0   \n",
      "3           0           0            0             0             0   \n",
      "4           0           0            0             0             0   \n",
      "5           0           0            0             0             0   \n",
      "6           0           0            0             0             0   \n",
      "7           0           0            0             0             0   \n",
      "8           0           0            0             0             0   \n",
      "9           0           0            0             0             0   \n",
      "\n",
      "   _COUNTRY_102  _COUNTRY_103  _COUNTRY_104  _COUNTRY_105  _COUNTRY_106  ...  \\\n",
      "0             0             0             0             0             0  ...   \n",
      "1             0             0             0             0             0  ...   \n",
      "2             0             0             0             0             0  ...   \n",
      "3             0             0             0             0             0  ...   \n",
      "4             0             0             0             0             0  ...   \n",
      "5             0             0             0             0             0  ...   \n",
      "6             0             0             0             0             0  ...   \n",
      "7             0             0             0             0             0  ...   \n",
      "8             0             0             0             0             0  ...   \n",
      "9             0             0             0             0             0  ...   \n",
      "\n",
      "   _COUNTRY_90  _COUNTRY_91  _COUNTRY_92  _COUNTRY_93  _COUNTRY_94  \\\n",
      "0            0            0            0            0            0   \n",
      "1            0            0            0            0            0   \n",
      "2            0            0            0            0            0   \n",
      "3            0            0            0            0            0   \n",
      "4            0            0            0            0            0   \n",
      "5            0            0            0            0            0   \n",
      "6            0            0            0            0            0   \n",
      "7            0            0            0            0            0   \n",
      "8            0            0            0            0            0   \n",
      "9            0            0            0            0            0   \n",
      "\n",
      "   _COUNTRY_95  _COUNTRY_96  _COUNTRY_97  _COUNTRY_98  _COUNTRY_99  \n",
      "0            0            0            0            0            0  \n",
      "1            0            0            0            0            0  \n",
      "2            0            0            0            0            0  \n",
      "3            0            0            0            0            0  \n",
      "4            0            0            0            0            0  \n",
      "5            0            0            0            0            0  \n",
      "6            0            0            0            0            0  \n",
      "7            0            0            0            0            0  \n",
      "8            0            0            0            0            0  \n",
      "9            0            0            0            0            0  \n",
      "\n",
      "[10 rows x 224 columns]\n"
     ]
    }
   ],
   "source": [
    "platform_dummies = pd.get_dummies(raw_data['platform'], prefix = 'platform')\n",
    "media_dummies = pd.get_dummies(raw_data['media_source'], prefix = '')\n",
    "country_dummies = pd.get_dummies(raw_data['country_code'], prefix = '')"
   ]
  },
  {
   "cell_type": "code",
   "execution_count": 5,
   "id": "d8e0a9cb",
   "metadata": {},
   "outputs": [
    {
     "data": {
      "text/plain": [
       "(1467832, 313)"
      ]
     },
     "execution_count": 5,
     "metadata": {},
     "output_type": "execute_result"
    }
   ],
   "source": [
    "dummy_data = pd.concat([raw_data, platform_dummies, media_dummies, country_dummies], axis = 1)\n",
    "dummy_data.shape"
   ]
  },
  {
   "cell_type": "code",
   "execution_count": 6,
   "id": "1b919989",
   "metadata": {},
   "outputs": [
    {
     "data": {
      "text/plain": [
       "(1467832, 310)"
      ]
     },
     "execution_count": 6,
     "metadata": {},
     "output_type": "execute_result"
    }
   ],
   "source": [
    "dummy_data.drop('platform', axis = 1, inplace = True)\n",
    "dummy_data.drop('country_code', axis = 1, inplace = True)\n",
    "dummy_data.drop('media_source', axis = 1, inplace = True)\n",
    "\n",
    "\n",
    "\n",
    "dummy_data.shape"
   ]
  },
  {
   "cell_type": "code",
   "execution_count": 7,
   "id": "41dc9e4a",
   "metadata": {},
   "outputs": [],
   "source": [
    "# just for now, idk what to do with it\n",
    "dummy_data.drop('install_date', axis = 1, inplace = True)"
   ]
  },
  {
   "cell_type": "code",
   "execution_count": 8,
   "id": "e39dd622",
   "metadata": {},
   "outputs": [],
   "source": [
    "from sklearn.linear_model import LinearRegression\n",
    "from sklearn.model_selection import train_test_split"
   ]
  },
  {
   "cell_type": "code",
   "execution_count": 12,
   "id": "6778b6f9",
   "metadata": {},
   "outputs": [
    {
     "name": "stderr",
     "output_type": "stream",
     "text": [
      "<ipython-input-12-8439f0fa05a0>:4: FutureWarning: In a future version of pandas all arguments of DataFrame.drop except for the argument 'labels' will be keyword-only.\n",
      "  train_set_y = train.drop(train.columns.difference(['target_sub_ltv_day30', 'target_iap_ltv_day30', 'target_ad_ltv_day30',\n",
      "<ipython-input-12-8439f0fa05a0>:7: SettingWithCopyWarning: \n",
      "A value is trying to be set on a copy of a slice from a DataFrame\n",
      "\n",
      "See the caveats in the documentation: https://pandas.pydata.org/pandas-docs/stable/user_guide/indexing.html#returning-a-view-versus-a-copy\n",
      "  train.drop(['target_sub_ltv_day30', 'target_iap_ltv_day30', 'target_ad_ltv_day30',\n",
      "<ipython-input-12-8439f0fa05a0>:11: FutureWarning: In a future version of pandas all arguments of DataFrame.drop except for the argument 'labels' will be keyword-only.\n",
      "  test_set_y = test.drop(train.columns.difference(['target_sub_ltv_day30', 'target_iap_ltv_day30', 'target_ad_ltv_day30',\n",
      "<ipython-input-12-8439f0fa05a0>:14: SettingWithCopyWarning: \n",
      "A value is trying to be set on a copy of a slice from a DataFrame\n",
      "\n",
      "See the caveats in the documentation: https://pandas.pydata.org/pandas-docs/stable/user_guide/indexing.html#returning-a-view-versus-a-copy\n",
      "  test.drop(['target_sub_ltv_day30', 'target_iap_ltv_day30', 'target_ad_ltv_day30',\n"
     ]
    },
    {
     "data": {
      "text/plain": [
       "(147, 4)"
      ]
     },
     "execution_count": 12,
     "metadata": {},
     "output_type": "execute_result"
    }
   ],
   "source": [
    "# Spliting dataset for training \n",
    "train, test = train_test_split(dummy_data, test_size=0.0001)\n",
    "\n",
    "train_set_y = train.drop(train.columns.difference(['target_sub_ltv_day30', 'target_iap_ltv_day30', 'target_ad_ltv_day30',\n",
    "       'target_full_ltv_day30']), 1) \n",
    "\n",
    "train.drop(['target_sub_ltv_day30', 'target_iap_ltv_day30', 'target_ad_ltv_day30',\n",
    "       'target_full_ltv_day30'], axis = 1, inplace = True)\n",
    "\n",
    "\n",
    "test_set_y = test.drop(train.columns.difference(['target_sub_ltv_day30', 'target_iap_ltv_day30', 'target_ad_ltv_day30',\n",
    "       'target_full_ltv_day30']), 1) \n",
    "\n",
    "test.drop(['target_sub_ltv_day30', 'target_iap_ltv_day30', 'target_ad_ltv_day30',\n",
    "       'target_full_ltv_day30'], axis = 1, inplace = True)\n",
    "\n",
    "# just synonims\n",
    "\n",
    "train_set_x = train\n",
    "test_set_x = test\n",
    "\n",
    "train_set_x.shape\n",
    "train_set_y.shape\n",
    "test_set_x.shape\n",
    "test_set_y.shape\n"
   ]
  },
  {
   "cell_type": "code",
   "execution_count": 13,
   "id": "3bb0d0e3",
   "metadata": {},
   "outputs": [
    {
     "data": {
      "text/plain": [
       "(1467685, 305)"
      ]
     },
     "execution_count": 13,
     "metadata": {},
     "output_type": "execute_result"
    }
   ],
   "source": [
    "train_set_x.shape"
   ]
  },
  {
   "cell_type": "code",
   "execution_count": 14,
   "id": "bfb7b991",
   "metadata": {},
   "outputs": [
    {
     "data": {
      "text/plain": [
       "(1467685, 4)"
      ]
     },
     "execution_count": 14,
     "metadata": {},
     "output_type": "execute_result"
    }
   ],
   "source": [
    "train_set_y.shape"
   ]
  },
  {
   "cell_type": "code",
   "execution_count": 15,
   "id": "c53e597d",
   "metadata": {},
   "outputs": [
    {
     "data": {
      "text/plain": [
       "(147, 305)"
      ]
     },
     "execution_count": 15,
     "metadata": {},
     "output_type": "execute_result"
    }
   ],
   "source": [
    "test_set_x.shape"
   ]
  },
  {
   "cell_type": "code",
   "execution_count": 28,
   "id": "22ae804e",
   "metadata": {},
   "outputs": [
    {
     "data": {
      "text/html": [
       "<div>\n",
       "<style scoped>\n",
       "    .dataframe tbody tr th:only-of-type {\n",
       "        vertical-align: middle;\n",
       "    }\n",
       "\n",
       "    .dataframe tbody tr th {\n",
       "        vertical-align: top;\n",
       "    }\n",
       "\n",
       "    .dataframe thead th {\n",
       "        text-align: right;\n",
       "    }\n",
       "</style>\n",
       "<table border=\"1\" class=\"dataframe\">\n",
       "  <thead>\n",
       "    <tr style=\"text-align: right;\">\n",
       "      <th></th>\n",
       "      <th>target_sub_ltv_day30</th>\n",
       "      <th>target_iap_ltv_day30</th>\n",
       "      <th>target_ad_ltv_day30</th>\n",
       "      <th>target_full_ltv_day30</th>\n",
       "    </tr>\n",
       "  </thead>\n",
       "  <tbody>\n",
       "    <tr>\n",
       "      <th>1444320</th>\n",
       "      <td>0.0</td>\n",
       "      <td>0.00000</td>\n",
       "      <td>0.000000</td>\n",
       "      <td>0.000000</td>\n",
       "    </tr>\n",
       "    <tr>\n",
       "      <th>258693</th>\n",
       "      <td>0.0</td>\n",
       "      <td>0.00000</td>\n",
       "      <td>0.000000</td>\n",
       "      <td>0.000000</td>\n",
       "    </tr>\n",
       "    <tr>\n",
       "      <th>1136736</th>\n",
       "      <td>0.0</td>\n",
       "      <td>0.40409</td>\n",
       "      <td>0.050822</td>\n",
       "      <td>0.454912</td>\n",
       "    </tr>\n",
       "    <tr>\n",
       "      <th>1092325</th>\n",
       "      <td>0.0</td>\n",
       "      <td>0.00000</td>\n",
       "      <td>0.000000</td>\n",
       "      <td>0.000000</td>\n",
       "    </tr>\n",
       "    <tr>\n",
       "      <th>528678</th>\n",
       "      <td>0.0</td>\n",
       "      <td>0.00000</td>\n",
       "      <td>0.000000</td>\n",
       "      <td>0.000000</td>\n",
       "    </tr>\n",
       "    <tr>\n",
       "      <th>...</th>\n",
       "      <td>...</td>\n",
       "      <td>...</td>\n",
       "      <td>...</td>\n",
       "      <td>...</td>\n",
       "    </tr>\n",
       "    <tr>\n",
       "      <th>345002</th>\n",
       "      <td>0.0</td>\n",
       "      <td>0.00000</td>\n",
       "      <td>0.000000</td>\n",
       "      <td>0.000000</td>\n",
       "    </tr>\n",
       "    <tr>\n",
       "      <th>783683</th>\n",
       "      <td>0.0</td>\n",
       "      <td>0.00000</td>\n",
       "      <td>0.000000</td>\n",
       "      <td>0.000000</td>\n",
       "    </tr>\n",
       "    <tr>\n",
       "      <th>1145602</th>\n",
       "      <td>0.0</td>\n",
       "      <td>0.00000</td>\n",
       "      <td>0.000000</td>\n",
       "      <td>0.000000</td>\n",
       "    </tr>\n",
       "    <tr>\n",
       "      <th>550303</th>\n",
       "      <td>0.0</td>\n",
       "      <td>0.00000</td>\n",
       "      <td>0.000000</td>\n",
       "      <td>0.000000</td>\n",
       "    </tr>\n",
       "    <tr>\n",
       "      <th>268689</th>\n",
       "      <td>0.0</td>\n",
       "      <td>0.00000</td>\n",
       "      <td>0.000000</td>\n",
       "      <td>0.000000</td>\n",
       "    </tr>\n",
       "  </tbody>\n",
       "</table>\n",
       "<p>147 rows × 4 columns</p>\n",
       "</div>"
      ],
      "text/plain": [
       "         target_sub_ltv_day30  target_iap_ltv_day30  target_ad_ltv_day30  \\\n",
       "1444320                   0.0               0.00000             0.000000   \n",
       "258693                    0.0               0.00000             0.000000   \n",
       "1136736                   0.0               0.40409             0.050822   \n",
       "1092325                   0.0               0.00000             0.000000   \n",
       "528678                    0.0               0.00000             0.000000   \n",
       "...                       ...                   ...                  ...   \n",
       "345002                    0.0               0.00000             0.000000   \n",
       "783683                    0.0               0.00000             0.000000   \n",
       "1145602                   0.0               0.00000             0.000000   \n",
       "550303                    0.0               0.00000             0.000000   \n",
       "268689                    0.0               0.00000             0.000000   \n",
       "\n",
       "         target_full_ltv_day30  \n",
       "1444320               0.000000  \n",
       "258693                0.000000  \n",
       "1136736               0.454912  \n",
       "1092325               0.000000  \n",
       "528678                0.000000  \n",
       "...                        ...  \n",
       "345002                0.000000  \n",
       "783683                0.000000  \n",
       "1145602               0.000000  \n",
       "550303                0.000000  \n",
       "268689                0.000000  \n",
       "\n",
       "[147 rows x 4 columns]"
      ]
     },
     "execution_count": 28,
     "metadata": {},
     "output_type": "execute_result"
    }
   ],
   "source": [
    "#reg = LinearRegression().fit(train_set_x, train_set_y)\n",
    "#reg.score(train_set_x, train_set_y)\n",
    "\n",
    "# such colums as 'total_sessions_day0', 'total_sessions_day1', 'total_sessions_day3', 'total_sessions_day7' \n",
    "# can contain nan values \n",
    "\n",
    "train_set_x.fillna(0)\n",
    "test_set_x.fillna(0)\n",
    "\n",
    "train_set_y.fillna(0)\n",
    "test_set_y.fillna(0)"
   ]
  },
  {
   "cell_type": "code",
   "execution_count": 31,
   "id": "be8a6e46",
   "metadata": {},
   "outputs": [],
   "source": [
    "# Training simple logistoic regression\n",
    "\n",
    "#unfortunately now it throws error about containing infinity. IDK where they are, so ...\n",
    "\n",
    "#reg = LinearRegression().fit(train_set_x, train_set_y)\n",
    "#reg.score(train_set_x, train_set_y)"
   ]
  },
  {
   "cell_type": "code",
   "execution_count": null,
   "id": "10c6439a",
   "metadata": {},
   "outputs": [],
   "source": []
  },
  {
   "cell_type": "code",
   "execution_count": null,
   "id": "67a50c86",
   "metadata": {},
   "outputs": [],
   "source": []
  },
  {
   "cell_type": "code",
   "execution_count": null,
   "id": "30a84227",
   "metadata": {},
   "outputs": [],
   "source": []
  },
  {
   "cell_type": "code",
   "execution_count": null,
   "id": "e895bb26",
   "metadata": {},
   "outputs": [],
   "source": []
  },
  {
   "cell_type": "code",
   "execution_count": null,
   "id": "b95513f5",
   "metadata": {},
   "outputs": [],
   "source": []
  }
 ],
 "metadata": {
  "kernelspec": {
   "display_name": "Python 3 (ipykernel)",
   "language": "python",
   "name": "python3"
  },
  "language_info": {
   "codemirror_mode": {
    "name": "ipython",
    "version": 3
   },
   "file_extension": ".py",
   "mimetype": "text/x-python",
   "name": "python",
   "nbconvert_exporter": "python",
   "pygments_lexer": "ipython3",
   "version": "3.8.5"
  }
 },
 "nbformat": 4,
 "nbformat_minor": 5
}
