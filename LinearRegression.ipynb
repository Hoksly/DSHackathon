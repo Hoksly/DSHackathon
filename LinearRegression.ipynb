{
 "cells": [
  {
   "cell_type": "code",
   "execution_count": 1,
   "id": "74c665a2",
   "metadata": {},
   "outputs": [],
   "source": [
    "import pandas as pd\n",
    "import numpy as np\n"
   ]
  },
  {
   "cell_type": "code",
   "execution_count": 2,
   "id": "e3eecf3d",
   "metadata": {},
   "outputs": [
    {
     "data": {
      "text/plain": [
       "(1467832, 63)"
      ]
     },
     "execution_count": 2,
     "metadata": {},
     "output_type": "execute_result"
    }
   ],
   "source": [
    "raw_data = pd.read_csv(\"data.csv\")\n",
    "raw_data.shape"
   ]
  },
  {
   "cell_type": "code",
   "execution_count": 3,
   "id": "f6803e78",
   "metadata": {},
   "outputs": [
    {
     "data": {
      "text/plain": [
       "Index(['total_sessions_day0', 'total_sessions_day1', 'total_sessions_day3',\n",
       "       'total_sessions_day7', 'chapters_finished_day0',\n",
       "       'chapters_finished_day1', 'chapters_finished_day3',\n",
       "       'chapters_finished_day7', 'chapters_opened_day0',\n",
       "       'chapters_opened_day1', 'chapters_opened_day3', 'chapters_opened_day7',\n",
       "       'chapters_closed_day0', 'chapters_closed_day1', 'chapters_closed_day3',\n",
       "       'chapters_closed_day7', 'diamonds_received_day0',\n",
       "       'diamonds_received_day1', 'diamonds_received_day3',\n",
       "       'diamonds_received_day7', 'diamonds_spent_day0', 'diamonds_spent_day1',\n",
       "       'diamonds_spent_day3', 'diamonds_spent_day7', 'tickets_spent_day0',\n",
       "       'tickets_spent_day1', 'tickets_spent_day3', 'tickets_spent_day7',\n",
       "       'retained_day1', 'retained_day3', 'retained_day7',\n",
       "       'chapters_finished_session1', 'chapters_finished_session3',\n",
       "       'chapters_finished_session9', 'chapters_opened_session1',\n",
       "       'chapters_opened_session3', 'chapters_opened_session9',\n",
       "       'chapters_closed_session1', 'chapters_closed_session3',\n",
       "       'chapters_closed_session9', 'diamonds_spent_session1',\n",
       "       'diamonds_spent_session3', 'diamonds_spent_session9',\n",
       "       'tickets_spent_session1', 'tickets_spent_session3',\n",
       "       'tickets_spent_session9', 'app_sub_ltv_day0', 'app_sub_ltv_day1',\n",
       "       'app_sub_ltv_day3', 'app_iap_ltv_day0', 'app_iap_ltv_day1',\n",
       "       'app_iap_ltv_day3', 'media_source', 'install_date', 'country_code',\n",
       "       'ad_ltv_day0', 'ad_ltv_day1', 'ad_ltv_day3', 'platform',\n",
       "       'target_sub_ltv_day30', 'target_iap_ltv_day30', 'target_ad_ltv_day30',\n",
       "       'target_full_ltv_day30'],\n",
       "      dtype='object')"
      ]
     },
     "execution_count": 3,
     "metadata": {},
     "output_type": "execute_result"
    }
   ],
   "source": [
    "raw_data.columns"
   ]
  },
  {
   "cell_type": "code",
   "execution_count": 4,
   "id": "6c5d9f93",
   "metadata": {},
   "outputs": [],
   "source": [
    "platform_dummies = pd.get_dummies(raw_data['platform'], prefix = 'platform')\n",
    "media_dummies = pd.get_dummies(raw_data['media_source'], prefix = '')\n",
    "country_dummies = pd.get_dummies(raw_data['country_code'], prefix = '')"
   ]
  },
  {
   "cell_type": "code",
   "execution_count": 6,
   "id": "83809aaa",
   "metadata": {},
   "outputs": [
    {
     "data": {
      "text/plain": [
       "(1467832, 563)"
      ]
     },
     "execution_count": 6,
     "metadata": {},
     "output_type": "execute_result"
    }
   ],
   "source": [
    "raw_data = pd.concat([raw_data, platform_dummies, media_dummies, country_dummies], axis = 1)\n",
    "dummy_data = raw_data\n",
    "dummy_data.shape"
   ]
  },
  {
   "cell_type": "code",
   "execution_count": 7,
   "id": "01a96cd2",
   "metadata": {},
   "outputs": [
    {
     "data": {
      "text/plain": [
       "(1467832, 560)"
      ]
     },
     "execution_count": 7,
     "metadata": {},
     "output_type": "execute_result"
    }
   ],
   "source": [
    "raw_data.drop('platform', axis = 1, inplace = True)\n",
    "raw_data.drop('country_code', axis = 1, inplace = True)\n",
    "raw_data.drop('media_source', axis = 1, inplace = True)\n",
    "\n",
    "\n",
    "\n",
    "raw_data.shape"
   ]
  },
  {
   "cell_type": "code",
   "execution_count": 8,
   "id": "d90e53b0",
   "metadata": {
    "scrolled": true
   },
   "outputs": [
    {
     "data": {
      "text/plain": [
       "'2022-01-24'"
      ]
     },
     "execution_count": 8,
     "metadata": {},
     "output_type": "execute_result"
    }
   ],
   "source": [
    "raw_data['install_date'][120000]"
   ]
  },
  {
   "cell_type": "code",
   "execution_count": 9,
   "id": "1039797c",
   "metadata": {},
   "outputs": [
    {
     "data": {
      "text/plain": [
       "str"
      ]
     },
     "execution_count": 9,
     "metadata": {},
     "output_type": "execute_result"
    }
   ],
   "source": [
    "type(raw_data['install_date'][0])"
   ]
  },
  {
   "cell_type": "code",
   "execution_count": 10,
   "id": "f6f1c19a",
   "metadata": {},
   "outputs": [],
   "source": [
    "from datetime import datetime\n",
    "\"\"\"\n",
    "Data needed to be transformed into:\n",
    "1) Time since 1970 (Unix date) continuous\n",
    "2) Day of a year [1, 365] categorical\n",
    "3) Month of a year [1, 12] categorical\n",
    "4) Day of a week in [1, 7] categorical\n",
    "5) Is weekend binary\n",
    "\"\"\"\n",
    "\n",
    "\n",
    "def transform_date(dates_frame: pd.DataFrame): # return pd.DataFrame\n",
    "    \n",
    "    py_dates = []\n",
    "    for el in dates_frame:\n",
    "        py_dates.append(datetime.strptime(el, '%Y-%m-%d'))\n",
    "\n",
    "    \n",
    "    dates_list = [] # Unix time \n",
    "    day_of_a_year_list = [] # Day of year\n",
    "    month_of_a_year = [] # month of a year\n",
    "    day_of_a_week = [] # day of a week\n",
    "    is_weekend = [] # is day a weekend \n",
    "\n",
    "\n",
    "    for el in py_dates:\n",
    "        dates_list.append(el.strftime(\"%s\"))\n",
    "        day_of_a_year_list.append(el.timetuple().tm_yday)\n",
    "        month_of_a_year.append(el.timetuple().tm_mon)\n",
    "        day_of_a_week.append(el.weekday())\n",
    "        is_weekend.append((el.weekday() > 4))\n",
    "    \n",
    "    \n",
    "    a = pd.DataFrame({\"_\":day_of_a_year_list})\n",
    "    b = pd.DataFrame({\"_\":day_of_a_week})\n",
    "    c = pd.DataFrame({\"_\": month_of_a_year})\n",
    "                     \n",
    "    d_year_day = pd.get_dummies(a[\"_\"], prefix = 'day')\n",
    "    d_month_of_year = pd.get_dummies(c[\"_\"], prefix = 'month')\n",
    "    d_weekday = pd.get_dummies(b[\"_\"], prefix = 'weekday')\n",
    "    d_weekend = pd.DataFrame({\"is_weekend\" : is_weekend})\n",
    "\n",
    "    print(d_year_day.shape, d_month_of_year.shape, d_weekday.shape, d_weekend.shape, sep = '\\n')\n",
    "    \n",
    "    return pd.concat([pd.DataFrame({\"unix date\": dates_list}),\n",
    "                        d_year_day, d_month_of_year, d_weekday, d_weekend], axis = 1)\n",
    "\n"
   ]
  },
  {
   "cell_type": "code",
   "execution_count": null,
   "id": "95bbbf15",
   "metadata": {},
   "outputs": [],
   "source": [
    "dummy_data = pd.concat([dummy_data,transform_date(raw_data['install_date'])], axis = 1)\n",
    "dummy_data.drop('install_date', axis = 1, inplace=True)\n",
    "dummy_data.shape\n",
    "\n",
    "# Now dataframe is fully prepeared for machine learning"
   ]
  },
  {
   "cell_type": "code",
   "execution_count": null,
   "id": "6fd6b72e",
   "metadata": {},
   "outputs": [],
   "source": [
    "from sklearn.linear_model import LinearRegression\n",
    "from sklearn.model_selection import train_test_split"
   ]
  },
  {
   "cell_type": "code",
   "execution_count": null,
   "id": "50faa6fd",
   "metadata": {},
   "outputs": [],
   "source": [
    "# Spliting dataset for training \n",
    "train, test = train_test_split(dummy_data, test_size=0.0001)\n",
    "\n",
    "train_set_y = train.drop(train.columns.difference(['target_sub_ltv_day30', 'target_iap_ltv_day30', 'target_ad_ltv_day30',\n",
    "       'target_full_ltv_day30']), 1) \n",
    "\n",
    "train.drop(['target_sub_ltv_day30', 'target_iap_ltv_day30', 'target_ad_ltv_day30',\n",
    "       'target_full_ltv_day30'], axis = 1, inplace = True)\n",
    "\n",
    "\n",
    "test_set_y = test.drop(train.columns.difference(['target_sub_ltv_day30', 'target_iap_ltv_day30', 'target_ad_ltv_day30',\n",
    "       'target_full_ltv_day30']), 1) \n",
    "\n",
    "test.drop(['target_sub_ltv_day30', 'target_iap_ltv_day30', 'target_ad_ltv_day30',\n",
    "       'target_full_ltv_day30'], axis = 1, inplace = True)\n",
    "\n",
    "# just synonims\n",
    "\n",
    "train_set_x = train\n",
    "test_set_x = test\n",
    "\n",
    "train_set_x.shape\n",
    "train_set_y.shape\n",
    "test_set_x.shape\n",
    "test_set_y.shape\n"
   ]
  },
  {
   "cell_type": "code",
   "execution_count": null,
   "id": "bd468fff",
   "metadata": {},
   "outputs": [],
   "source": [
    "train_set_x.shape"
   ]
  },
  {
   "cell_type": "code",
   "execution_count": null,
   "id": "dbe3d3ab",
   "metadata": {},
   "outputs": [],
   "source": [
    "train_set_y.shape"
   ]
  },
  {
   "cell_type": "code",
   "execution_count": null,
   "id": "1640dbaf",
   "metadata": {},
   "outputs": [],
   "source": [
    "test_set_x.shape"
   ]
  },
  {
   "cell_type": "code",
   "execution_count": null,
   "id": "6bc5c2a4",
   "metadata": {},
   "outputs": [],
   "source": [
    "#reg = LinearRegression().fit(train_set_x, train_set_y)\n",
    "#reg.score(train_set_x, train_set_y)\n",
    "\n",
    "# such colums as 'total_sessions_day0', 'total_sessions_day1', 'total_sessions_day3', 'total_sessions_day7' \n",
    "# can contain nan values \n",
    "\n",
    "train_set_x.fillna(0)\n",
    "test_set_x.fillna(0)\n",
    "\n",
    "train_set_y.fillna(0)\n",
    "test_set_y.fillna(0)"
   ]
  },
  {
   "cell_type": "code",
   "execution_count": null,
   "id": "c1bb2442",
   "metadata": {},
   "outputs": [],
   "source": [
    "# Training simple logistoic regression\n",
    "\n",
    "#unfortunately now it throws error about containing infinity. IDK where they are, so ...\n",
    "train_set_x = train_set_x.reset_index()\n",
    "train_set_y = train_set_y.reset_index()\n",
    "\n",
    "reg = LinearRegression().fit(train_set_x, train_set_y)\n",
    "reg.score(train_set_x, train_set_y)"
   ]
  },
  {
   "cell_type": "code",
   "execution_count": null,
   "id": "10396331",
   "metadata": {},
   "outputs": [],
   "source": []
  },
  {
   "cell_type": "code",
   "execution_count": null,
   "id": "286863c9",
   "metadata": {},
   "outputs": [],
   "source": []
  },
  {
   "cell_type": "code",
   "execution_count": null,
   "id": "fa2b2d69",
   "metadata": {},
   "outputs": [],
   "source": []
  },
  {
   "cell_type": "code",
   "execution_count": null,
   "id": "e57bfc33",
   "metadata": {},
   "outputs": [],
   "source": []
  },
  {
   "cell_type": "code",
   "execution_count": null,
   "id": "90a91eab",
   "metadata": {},
   "outputs": [],
   "source": []
  }
 ],
 "metadata": {
  "kernelspec": {
   "display_name": "Python 3 (ipykernel)",
   "language": "python",
   "name": "python3"
  },
  "language_info": {
   "codemirror_mode": {
    "name": "ipython",
    "version": 3
   },
   "file_extension": ".py",
   "mimetype": "text/x-python",
   "name": "python",
   "nbconvert_exporter": "python",
   "pygments_lexer": "ipython3",
   "version": "3.8.5"
  }
 },
 "nbformat": 4,
 "nbformat_minor": 5
}
