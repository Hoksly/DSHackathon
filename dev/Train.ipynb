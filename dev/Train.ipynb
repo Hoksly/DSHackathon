{
 "cells": [
  {
   "cell_type": "code",
   "execution_count": 3,
   "id": "26ebab71",
   "metadata": {},
   "outputs": [],
   "source": [
    "import numpy as np\n",
    "import pandas as pd\n",
    "import tensorflow as tf\n",
    "from tensorflow.keras import metrics"
   ]
  },
  {
   "cell_type": "code",
   "execution_count": 4,
   "id": "4fcfbd7f",
   "metadata": {},
   "outputs": [],
   "source": [
    "def get_model(model_file = None, loss_func = 'mean_absolute_error', output_layer = 4, \n",
    "              number_of_hidden_layers = 7, \n",
    "              input_layer = 305,\n",
    "              n_hidden_layer = 305,\n",
    "              metrics = [\n",
    "                metrics.RootMeanSquaredError(),\n",
    "                metrics.MeanAbsoluteError(),\n",
    "                    metrics.MeanAbsolutePercentageError()\n",
    "            ]):\n",
    "        if(not model_file):\n",
    "            model = tf.keras.models.Sequential()\n",
    "            \n",
    "            model.add(tf.keras.layers.Dense(input_layer, activation='relu'))\n",
    "            for i in range(1, number_of_hidden_layers+1):\n",
    "                model.add(tf.keras.layers.Dense(n_hidden_layer/i, activation='relu'))\n",
    "                \n",
    "            model.add(tf.keras.layers.Dense(output_layer,))\n",
    "            \n",
    "            print(loss_func, output_layer, model_file)\n",
    "            if (loss_func == 'mean_absolute_error'):\n",
    "                model.compile(optimizer='Adam', loss = 'mean_absolute_error', metrics=metrics)\n",
    "            \n",
    "            elif (loss_func == 'categorical_crossentropy'):  \n",
    "                model.compile(optimizer='Adam', loss=tf.keras.losses.CategoricalCrossentropy(), metrics=metrics)\n",
    "            return model\n",
    "\n",
    "        else:\n",
    "            return tf.keras.models.load_model(model_file)\n",
    "\n",
    "class DeepModel:\n",
    "    \n",
    "    \n",
    "\n",
    "    def __init__(self, model_file = None, loss_func = 'mean_absolute_error'):\n",
    "        self.model = get_model(model_file= model_file, loss_func= loss_func)\n",
    "     \n",
    "        \n",
    "\n",
    "        \n",
    "    def train(self, X, Y, *args, **kargs):\n",
    "        self.model.fit(X, Y, *args, **kargs)\n",
    "        \n",
    "    \n",
    "    def predict(self, *args, **kargs):\n",
    "        self.model.predict(*args, **kargs)\n",
    "    \n",
    "    def evaluate(self, *args, **kargs):\n",
    "        self.model.evaluate(*args, **kargs)\n",
    "        \n",
    "    def summury(self):\n",
    "        return model.summury()\n",
    "        "
   ]
  },
  {
   "cell_type": "code",
   "execution_count": 5,
   "id": "f19cfbf4",
   "metadata": {},
   "outputs": [],
   "source": [
    "def get_data(path: str):\n",
    "    df = pd.read_csv(path)\n",
    "    \n",
    "    df = df.dropna()\n",
    "    df.describe()\n",
    "    \n",
    "    platform_dummies = pd.get_dummies(df['platform'], drop_first=True)\n",
    "    df = df.drop(['platform'],axis=1)\n",
    "    df = pd.concat([df, platform_dummies],axis=1)\n",
    "    \n",
    "    media_source_dummies = pd.get_dummies(df['media_source'], drop_first=True)\n",
    "    df = df.drop(['media_source'], axis=1)\n",
    "    df = pd.concat([df, media_source_dummies], axis=1)\n",
    "   \n",
    "    country_code_dummies = pd.get_dummies(df['country_code'], drop_first=True)\n",
    "    df = df.drop(['country_code'], axis=1)\n",
    "    df = pd.concat([df, country_code_dummies], axis=1)\n",
    "    \n",
    "    df = df.drop(['install_date'], axis=1)\n",
    "    \n",
    "    Y = df[['target_sub_ltv_day30', 'target_iap_ltv_day30', 'target_ad_ltv_day30', 'target_full_ltv_day30']]\n",
    "    \n",
    "    df.drop(['target_sub_ltv_day30', 'target_iap_ltv_day30', 'target_ad_ltv_day30', 'target_full_ltv_day30'], axis = 1, inplace = True)\n",
    "    \n",
    "    return df, Y"
   ]
  },
  {
   "cell_type": "code",
   "execution_count": 6,
   "id": "7c6cbc87",
   "metadata": {},
   "outputs": [],
   "source": [
    "from sklearn.model_selection import train_test_split\n",
    "\n",
    "def split(X, y):\n",
    "    return train_test_split(X, y, test_size=0.001, random_state=69)"
   ]
  },
  {
   "cell_type": "code",
   "execution_count": 7,
   "id": "c7e78433",
   "metadata": {},
   "outputs": [],
   "source": [
    "from sklearn.preprocessing import MinMaxScaler\n",
    "def preprocess(X_train, X_test):\n",
    "\n",
    "    scaler = MinMaxScaler()\n",
    "    X_train = scaler.fit_transform(X_train)\n",
    "    X_test = scaler.transform(X_test)\n",
    "    return X_train, X_test\n"
   ]
  },
  {
   "cell_type": "code",
   "execution_count": 8,
   "id": "20b9835e",
   "metadata": {},
   "outputs": [],
   "source": [
    "X, y = get_data('data.csv')"
   ]
  },
  {
   "cell_type": "code",
   "execution_count": 9,
   "id": "c6cb2e66",
   "metadata": {},
   "outputs": [
    {
     "name": "stdout",
     "output_type": "stream",
     "text": [
      "mean_absolute_error 4 None\n"
     ]
    }
   ],
   "source": [
    "model = DeepModel()"
   ]
  },
  {
   "cell_type": "code",
   "execution_count": 10,
   "id": "facbb082",
   "metadata": {},
   "outputs": [],
   "source": [
    "X_train, X_test, y_train, y_test = split(X, y)\n",
    "del X, y"
   ]
  },
  {
   "cell_type": "code",
   "execution_count": 11,
   "id": "beb1efc7",
   "metadata": {},
   "outputs": [
    {
     "data": {
      "text/plain": [
       "(1464991, 302)"
      ]
     },
     "execution_count": 11,
     "metadata": {},
     "output_type": "execute_result"
    }
   ],
   "source": [
    "X_train.shape"
   ]
  },
  {
   "cell_type": "code",
   "execution_count": 12,
   "id": "95863627",
   "metadata": {},
   "outputs": [
    {
     "data": {
      "text/plain": [
       "(1464991, 4)"
      ]
     },
     "execution_count": 12,
     "metadata": {},
     "output_type": "execute_result"
    }
   ],
   "source": [
    "y_train.shape"
   ]
  },
  {
   "cell_type": "code",
   "execution_count": 13,
   "id": "663134a5",
   "metadata": {},
   "outputs": [
    {
     "name": "stdout",
     "output_type": "stream",
     "text": [
      "Epoch 1/10\n",
      "45781/45781 [==============================] - 565s 12ms/step - loss: 0.0561 - root_mean_squared_error: 0.8342 - mean_absolute_error: 0.0561 - mean_absolute_percentage_error: 2178806.7500\n",
      "Epoch 2/10\n",
      "45781/45781 [==============================] - 427s 9ms/step - loss: 0.0456 - root_mean_squared_error: 0.7665 - mean_absolute_error: 0.0456 - mean_absolute_percentage_error: 1251578.2500\n",
      "Epoch 3/10\n",
      "45781/45781 [==============================] - 438s 10ms/step - loss: 0.0433 - root_mean_squared_error: 0.7601 - mean_absolute_error: 0.0433 - mean_absolute_percentage_error: 1104062.3750\n",
      "Epoch 4/10\n",
      "45781/45781 [==============================] - 335s 7ms/step - loss: 0.0416 - root_mean_squared_error: 0.7451 - mean_absolute_error: 0.0416 - mean_absolute_percentage_error: 1013719.1250\n",
      "Epoch 5/10\n",
      "45781/45781 [==============================] - 276s 6ms/step - loss: 0.0411 - root_mean_squared_error: 0.7436 - mean_absolute_error: 0.0411 - mean_absolute_percentage_error: 989019.1875\n",
      "Epoch 6/10\n",
      "45781/45781 [==============================] - 272s 6ms/step - loss: 0.0404 - root_mean_squared_error: 0.7427 - mean_absolute_error: 0.0404 - mean_absolute_percentage_error: 939749.1875\n",
      "Epoch 7/10\n",
      "45781/45781 [==============================] - 274s 6ms/step - loss: 0.0403 - root_mean_squared_error: 0.7438 - mean_absolute_error: 0.0403 - mean_absolute_percentage_error: 922872.6875\n",
      "Epoch 8/10\n",
      "45781/45781 [==============================] - 281s 6ms/step - loss: 0.0398 - root_mean_squared_error: 0.7329 - mean_absolute_error: 0.0398 - mean_absolute_percentage_error: 932124.5000\n",
      "Epoch 9/10\n",
      "45781/45781 [==============================] - 272s 6ms/step - loss: 0.0395 - root_mean_squared_error: 0.7338 - mean_absolute_error: 0.0395 - mean_absolute_percentage_error: 906014.8750\n",
      "Epoch 10/10\n",
      "45781/45781 [==============================] - 281s 6ms/step - loss: 0.0392 - root_mean_squared_error: 0.7376 - mean_absolute_error: 0.0392 - mean_absolute_percentage_error: 891679.3750\n"
     ]
    }
   ],
   "source": [
    "model.train(X_train, y_train, verbose = 1, epochs = 10)"
   ]
  },
  {
   "cell_type": "code",
   "execution_count": null,
   "id": "34a7a08b",
   "metadata": {},
   "outputs": [],
   "source": []
  },
  {
   "cell_type": "code",
   "execution_count": 14,
   "id": "1d8f2984",
   "metadata": {},
   "outputs": [
    {
     "name": "stdout",
     "output_type": "stream",
     "text": [
      "INFO:tensorflow:Assets written to: model1/assets\n"
     ]
    }
   ],
   "source": [
    "model.model.save(\"model1\")"
   ]
  },
  {
   "cell_type": "code",
   "execution_count": null,
   "id": "03fbbafb",
   "metadata": {},
   "outputs": [],
   "source": []
  }
 ],
 "metadata": {
  "kernelspec": {
   "display_name": "Python 3 (ipykernel)",
   "language": "python",
   "name": "python3"
  },
  "language_info": {
   "codemirror_mode": {
    "name": "ipython",
    "version": 3
   },
   "file_extension": ".py",
   "mimetype": "text/x-python",
   "name": "python",
   "nbconvert_exporter": "python",
   "pygments_lexer": "ipython3",
   "version": "3.8.5"
  }
 },
 "nbformat": 4,
 "nbformat_minor": 5
}
