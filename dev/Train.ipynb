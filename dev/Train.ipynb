{
 "cells": [
  {
   "cell_type": "code",
   "execution_count": 1,
   "id": "c5345ce2",
   "metadata": {},
   "outputs": [],
   "source": [
    "import numpy as np\n",
    "import pandas as pd\n",
    "import tensorflow as tf\n",
    "from tensorflow.keras import metrics"
   ]
  },
  {
   "cell_type": "code",
   "execution_count": 2,
   "id": "c1e30ea4",
   "metadata": {},
   "outputs": [],
   "source": [
    "def get_model(model_file = None, loss_func = 'mean_absolute_error', output_layer = 4\n",
    "             , metrics = [\n",
    "                metrics.RootMeanSquaredError(),\n",
    "                metrics.MeanAbsoluteError(),\n",
    "                    metrics.MeanAbsolutePercentageError()\n",
    "            ]):\n",
    "        if(not model_file):\n",
    "            model = tf.keras.models.Sequential()\n",
    "            model.add(tf.keras.layers.Dense(305, activation='relu'))\n",
    "            model.add(tf.keras.layers.Dense(172, activation='relu'))\n",
    "            model.add(tf.keras.layers.Dense(76, activation='relu'))\n",
    "            model.add(tf.keras.layers.Dense(38, activation='relu'))\n",
    "            model.add(tf.keras.layers.Dense(19, activation='relu'))\n",
    "            model.add(tf.keras.layers.Dense(output_layer,))\n",
    "            print(loss_func, output_layer, model_file)\n",
    "            if (loss_func == 'mean_absolute_error'):\n",
    "                model.compile(optimizer='Adam', loss = 'mean_absolute_error', metrics=metrics)\n",
    "            \n",
    "            elif (loss_func == 'categorical_crossentropy'):  \n",
    "                model.compile(optimizer='Adam', loss=tf.keras.losses.CategoricalCrossentropy(), metrics=metrics)\n",
    "            return model\n",
    "\n",
    "        else:\n",
    "            return tf.keras.models.load_model(model_file)\n",
    "\n",
    "class DeepModel:\n",
    "    \n",
    "    \n",
    "\n",
    "    def __init__(self, model_file = None, loss_func = 'mean_absolute_error'):\n",
    "        self.model = get_model(model_file= model_file, loss_func= loss_func)\n",
    "     \n",
    "        \n",
    "\n",
    "        \n",
    "    def train(self, X, Y, *args, **kargs):\n",
    "        self.model.fit(X, Y, *args, **kargs)\n",
    "        \n",
    "    \n",
    "    def predict(self, *args, **kargs):\n",
    "        self.model.predict(*args, **kargs)\n",
    "    \n",
    "    def evaluate(self, *args, **kargs):\n",
    "        self.model.evaluate(*args, **kargs)\n",
    "        \n",
    "    def summury(self):\n",
    "        return model.summury()\n",
    "        "
   ]
  },
  {
   "cell_type": "code",
   "execution_count": 3,
   "id": "033fa858",
   "metadata": {},
   "outputs": [],
   "source": [
    "def get_data(path: str):\n",
    "    df = pd.read_csv(path)\n",
    "    \n",
    "    df = df.dropna()\n",
    "    df.describe()\n",
    "    \n",
    "    platform_dummies = pd.get_dummies(df['platform'], drop_first=True)\n",
    "    df = df.drop(['platform'],axis=1)\n",
    "    df = pd.concat([df, platform_dummies],axis=1)\n",
    "    \n",
    "    media_source_dummies = pd.get_dummies(df['media_source'], drop_first=True)\n",
    "    df = df.drop(['media_source'], axis=1)\n",
    "    df = pd.concat([df, media_source_dummies], axis=1)\n",
    "   \n",
    "    country_code_dummies = pd.get_dummies(df['country_code'], drop_first=True)\n",
    "    df = df.drop(['country_code'], axis=1)\n",
    "    df = pd.concat([df, country_code_dummies], axis=1)\n",
    "    \n",
    "    df = df.drop(['install_date'], axis=1)\n",
    "    \n",
    "    Y = df[['target_sub_ltv_day30', 'target_iap_ltv_day30', 'target_ad_ltv_day30', 'target_full_ltv_day30']]\n",
    "    \n",
    "    df.drop(['target_sub_ltv_day30', 'target_iap_ltv_day30', 'target_ad_ltv_day30', 'target_full_ltv_day30'], axis = 1, inplace = True)\n",
    "    \n",
    "    return df, Y"
   ]
  },
  {
   "cell_type": "code",
   "execution_count": 4,
   "id": "c8f83449",
   "metadata": {},
   "outputs": [],
   "source": [
    "from sklearn.model_selection import train_test_split\n",
    "\n",
    "def split(X, y):\n",
    "    return train_test_split(X, y, test_size=0.001, random_state=69)"
   ]
  },
  {
   "cell_type": "code",
   "execution_count": 5,
   "id": "27e98d1f",
   "metadata": {},
   "outputs": [],
   "source": [
    "from sklearn.preprocessing import MinMaxScaler\n",
    "def preprocess(X_train, X_test):\n",
    "\n",
    "    scaler = MinMaxScaler()\n",
    "    X_train = scaler.fit_transform(X_train)\n",
    "    X_test = scaler.transform(X_test)\n",
    "    return X_train, X_test\n"
   ]
  },
  {
   "cell_type": "code",
   "execution_count": 6,
   "id": "ac10ec03",
   "metadata": {},
   "outputs": [],
   "source": [
    "X, y = get_data('data.csv')"
   ]
  },
  {
   "cell_type": "code",
   "execution_count": 7,
   "id": "5242411a",
   "metadata": {},
   "outputs": [
    {
     "name": "stdout",
     "output_type": "stream",
     "text": [
      "mean_absolute_error 4 None\n"
     ]
    }
   ],
   "source": [
    "model = DeepModel()"
   ]
  },
  {
   "cell_type": "code",
   "execution_count": 8,
   "id": "2d9c3dff",
   "metadata": {},
   "outputs": [],
   "source": [
    "X_train, X_test, y_train, y_test = split(X, y)\n",
    "del X, y"
   ]
  },
  {
   "cell_type": "code",
   "execution_count": 9,
   "id": "b6ee41d5",
   "metadata": {},
   "outputs": [
    {
     "data": {
      "text/plain": [
       "(1464991, 302)"
      ]
     },
     "execution_count": 9,
     "metadata": {},
     "output_type": "execute_result"
    }
   ],
   "source": [
    "X_train.shape"
   ]
  },
  {
   "cell_type": "code",
   "execution_count": 10,
   "id": "bd9a7c87",
   "metadata": {},
   "outputs": [
    {
     "data": {
      "text/plain": [
       "(1464991, 4)"
      ]
     },
     "execution_count": 10,
     "metadata": {},
     "output_type": "execute_result"
    }
   ],
   "source": [
    "y_train.shape"
   ]
  },
  {
   "cell_type": "code",
   "execution_count": null,
   "id": "d1b16062",
   "metadata": {},
   "outputs": [
    {
     "name": "stdout",
     "output_type": "stream",
     "text": [
      "Epoch 1/10\n",
      "45781/45781 [==============================] - 191s 4ms/step - loss: 0.1286 - root_mean_squared_error: 1.5593 - mean_absolute_error: 0.1286 - mean_absolute_percentage_error: 412108.5000\n",
      "Epoch 2/10\n",
      "45781/45781 [==============================] - 189s 4ms/step - loss: 0.1287 - root_mean_squared_error: 1.5669 - mean_absolute_error: 0.1287 - mean_absolute_percentage_error: 122479.8047\n",
      "Epoch 3/10\n",
      " 6584/45781 [===>..........................] - ETA: 2:41 - loss: 0.1289 - root_mean_squared_error: 1.6104 - mean_absolute_error: 0.1289 - mean_absolute_percentage_error: 121599.5469"
     ]
    }
   ],
   "source": [
    "model.train(X_train, y_train, verbose = 1, epochs = 10)"
   ]
  },
  {
   "cell_type": "code",
   "execution_count": null,
   "id": "373f06b0",
   "metadata": {},
   "outputs": [],
   "source": []
  },
  {
   "cell_type": "code",
   "execution_count": null,
   "id": "148521e8",
   "metadata": {},
   "outputs": [],
   "source": []
  }
 ],
 "metadata": {
  "kernelspec": {
   "display_name": "Python 3 (ipykernel)",
   "language": "python",
   "name": "python3"
  },
  "language_info": {
   "codemirror_mode": {
    "name": "ipython",
    "version": 3
   },
   "file_extension": ".py",
   "mimetype": "text/x-python",
   "name": "python",
   "nbconvert_exporter": "python",
   "pygments_lexer": "ipython3",
   "version": "3.8.5"
  }
 },
 "nbformat": 4,
 "nbformat_minor": 5
}
