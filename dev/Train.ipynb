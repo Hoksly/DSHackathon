{
 "cells": [
  {
   "cell_type": "code",
   "execution_count": 1,
   "id": "a46be3de",
   "metadata": {},
   "outputs": [],
   "source": [
    "import numpy as np\n",
    "import pandas as pd\n",
    "import tensorflow as tf\n",
    "from tensorflow.keras import metrics"
   ]
  },
  {
   "cell_type": "code",
   "execution_count": null,
   "id": "2c95ae52",
   "metadata": {},
   "outputs": [],
   "source": [
    "PATH = \"\""
   ]
  },
  {
   "cell_type": "code",
   "execution_count": 2,
   "id": "e0636dd5",
   "metadata": {},
   "outputs": [],
   "source": [
    "class DeepModel(tf.keras.models.Sequential):\n",
    "\n",
    "    def __init__(self, model_file=None,\n",
    "                 loss_func='mean_absolute_error',\n",
    "                 n_input_layer=305,\n",
    "                 number_of_hidden_layers=5,\n",
    "                 neurons_hidden_layer=305,\n",
    "                 neurons_output_layer=4,\n",
    "                 metrics=[\n",
    "                     metrics.RootMeanSquaredError(),\n",
    "                     metrics.MeanAbsoluteError(),\n",
    "                     metrics.MeanAbsolutePercentageError()],\n",
    "                 * args, **kwargs):\n",
    "\n",
    "        super(DeepModel, self).__init__(*args, **kwargs)\n",
    "\n",
    "        self.add(tf.keras.layers.Dense(n_input_layer, activation='relu'))\n",
    "        \n",
    "        for i in range(number_of_hidden_layers):\n",
    "            self.add(tf.keras.layers.Dense(\n",
    "                neurons_hidden_layer / 2**i, activation='relu'))\n",
    "\n",
    "            self.add(tf.keras.layers.Dense(\n",
    "                neurons_output_layer, activation='linear'))\n",
    "\n",
    "            if (loss_func == 'mean_absolute_error'):\n",
    "                self.compile(optimizer='Adam',\n",
    "                             loss='mean_absolute_error', metrics=metrics)\n",
    "\n",
    "            elif (loss_func == 'categorical_crossentropy'):\n",
    "                self.compile(optimizer='Adam',\n",
    "                             loss='mean_squared_error', metrics=metrics)\n",
    "\n",
    "            elif (loss_func == 'mean_squared_logarithmic_error'):\n",
    "                self.compile(\n",
    "                    optimizer='Adam', loss='mean_squared_logarithmic_error', metrics=metrics)"
   ]
  },
  {
   "cell_type": "code",
   "execution_count": 3,
   "id": "7fcdcded",
   "metadata": {},
   "outputs": [],
   "source": [
    "def get_data(path: str):\n",
    "    df = pd.read_csv(path)\n",
    "    \n",
    "    df = df.dropna()\n",
    "    df.describe()\n",
    "    \n",
    "    platform_dummies = pd.get_dummies(df['platform'], drop_first=True)\n",
    "    df = df.drop(['platform'],axis=1)\n",
    "    df = pd.concat([df, platform_dummies],axis=1)\n",
    "    \n",
    "    media_source_dummies = pd.get_dummies(df['media_source'], drop_first=True)\n",
    "    df = df.drop(['media_source'], axis=1)\n",
    "    df = pd.concat([df, media_source_dummies], axis=1)\n",
    "   \n",
    "    country_code_dummies = pd.get_dummies(df['country_code'], drop_first=True)\n",
    "    df = df.drop(['country_code'], axis=1)\n",
    "    df = pd.concat([df, country_code_dummies], axis=1)\n",
    "    \n",
    "    df = df.drop(['install_date'], axis=1)\n",
    "    \n",
    "    Y = df[['target_sub_ltv_day30', 'target_iap_ltv_day30', 'target_ad_ltv_day30', 'target_full_ltv_day30']]\n",
    "    \n",
    "    df.drop(['target_sub_ltv_day30', 'target_iap_ltv_day30', 'target_ad_ltv_day30', 'target_full_ltv_day30'], axis = 1, inplace = True)\n",
    "    \n",
    "    return df, Y"
   ]
  },
  {
   "cell_type": "code",
   "execution_count": 4,
   "id": "b1c11a8b",
   "metadata": {},
   "outputs": [],
   "source": [
    "from sklearn.model_selection import train_test_split\n",
    "\n",
    "def split(X, y):\n",
    "    return train_test_split(X, y, test_size=0.001, random_state=69)"
   ]
  },
  {
   "cell_type": "code",
   "execution_count": 5,
   "id": "1d1782d4",
   "metadata": {},
   "outputs": [],
   "source": [
    "from sklearn.preprocessing import MinMaxScaler\n",
    "def preprocess(X_train, X_test):\n",
    "\n",
    "    scaler = MinMaxScaler()\n",
    "    X_train = scaler.fit_transform(X_train)\n",
    "    X_test = scaler.transform(X_test)\n",
    "    return X_train, X_test\n"
   ]
  },
  {
   "cell_type": "code",
   "execution_count": 6,
   "id": "f71fcf48",
   "metadata": {},
   "outputs": [],
   "source": [
    "X, y = get_data(PATH + 'data.csv')"
   ]
  },
  {
   "cell_type": "code",
   "execution_count": 7,
   "id": "fc5463a4",
   "metadata": {},
   "outputs": [],
   "source": [
    "model = DeepModel()"
   ]
  },
  {
   "cell_type": "code",
   "execution_count": 8,
   "id": "3c268c25",
   "metadata": {},
   "outputs": [],
   "source": [
    "pd_X_train, pd_X_test, pd_y_train, pd_y_test = split(X, y)\n",
    "del X, y"
   ]
  },
  {
   "cell_type": "code",
   "execution_count": 9,
   "id": "ee05193c",
   "metadata": {},
   "outputs": [
    {
     "data": {
      "text/plain": [
       "(1464991, 302)"
      ]
     },
     "execution_count": 9,
     "metadata": {},
     "output_type": "execute_result"
    }
   ],
   "source": [
    "pd_X_train.shape"
   ]
  },
  {
   "cell_type": "code",
   "execution_count": 10,
   "id": "cfaa49ef",
   "metadata": {},
   "outputs": [
    {
     "data": {
      "text/plain": [
       "(1464991, 4)"
      ]
     },
     "execution_count": 10,
     "metadata": {},
     "output_type": "execute_result"
    }
   ],
   "source": [
    "pd_y_train.shape"
   ]
  },
  {
   "cell_type": "code",
   "execution_count": 11,
   "id": "c67e9d24",
   "metadata": {},
   "outputs": [],
   "source": [
    "\n",
    "X_train = pd_X_train.values\n",
    "y_train = pd_y_train.values"
   ]
  },
  {
   "cell_type": "code",
   "execution_count": 12,
   "id": "99d79b1e",
   "metadata": {},
   "outputs": [],
   "source": [
    "del pd_X_train, pd_y_train"
   ]
  },
  {
   "cell_type": "code",
   "execution_count": 13,
   "id": "ab7c7bb4",
   "metadata": {},
   "outputs": [
    {
     "name": "stdout",
     "output_type": "stream",
     "text": [
      "45781/45781 [==============================] - 212s 5ms/step - loss: 0.0537 - root_mean_squared_error: 0.8080 - mean_absolute_error: 0.0537 - mean_absolute_percentage_error: 2042273.5000\n"
     ]
    },
    {
     "data": {
      "text/plain": [
       "<keras.callbacks.History at 0x7f9404cb2af0>"
      ]
     },
     "execution_count": 13,
     "metadata": {},
     "output_type": "execute_result"
    }
   ],
   "source": [
    "model.fit(X_train, y_train, verbose = 1, epochs = 1)"
   ]
  },
  {
   "cell_type": "code",
   "execution_count": null,
   "id": "660dee6e",
   "metadata": {},
   "outputs": [],
   "source": []
  },
  {
   "cell_type": "code",
   "execution_count": 15,
   "id": "22658d23",
   "metadata": {},
   "outputs": [
    {
     "name": "stdout",
     "output_type": "stream",
     "text": [
      "INFO:tensorflow:Assets written to: model2/assets\n"
     ]
    }
   ],
   "source": [
    "model.save(PATH + \"model2\")"
   ]
  },
  {
   "cell_type": "code",
   "execution_count": 16,
   "id": "cf567073",
   "metadata": {},
   "outputs": [
    {
     "name": "stdout",
     "output_type": "stream",
     "text": [
      "46/46 [==============================] - 0s 3ms/step - loss: 0.0744 - root_mean_squared_error: 0.8714 - mean_absolute_error: 0.0744 - mean_absolute_percentage_error: 1385131.7500\n"
     ]
    },
    {
     "data": {
      "text/plain": [
       "[0.07437730580568314, 0.8714499473571777, 0.07437730580568314, 1385131.75]"
      ]
     },
     "execution_count": 16,
     "metadata": {},
     "output_type": "execute_result"
    }
   ],
   "source": [
    "model.evaluate(pd_X_test, pd_y_test)"
   ]
  },
  {
   "cell_type": "code",
   "execution_count": null,
   "id": "a8944725",
   "metadata": {},
   "outputs": [],
   "source": []
  }
 ],
 "metadata": {
  "kernelspec": {
   "display_name": "Python 3 (ipykernel)",
   "language": "python",
   "name": "python3"
  }
 },
 "nbformat": 4,
 "nbformat_minor": 5
}
