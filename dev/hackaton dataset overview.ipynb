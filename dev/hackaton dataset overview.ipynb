{
 "cells": [
  {
   "cell_type": "code",
   "execution_count": 2,
   "id": "5139e241",
   "metadata": {
    "colab": {
     "base_uri": "https://localhost:8080/"
    },
    "executionInfo": {
     "elapsed": 2207,
     "status": "ok",
     "timestamp": 1662577899668,
     "user": {
      "displayName": "ПІ-11 Практики",
      "userId": "07053419194244331719"
     },
     "user_tz": -180
    },
    "id": "FcE7w6FQJLy8",
    "outputId": "f385bfad-6591-4b1b-ad30-da3567ce5e1b"
   },
   "outputs": [
    {
     "name": "stdout",
     "output_type": "stream",
     "text": [
      "Drive already mounted at /content/drive; to attempt to forcibly remount, call drive.mount(\"/content/drive\", force_remount=True).\n"
     ]
    }
   ],
   "source": [
    "from google.colab import drive\n",
    "drive.mount('/content/drive')"
   ]
  },
  {
   "cell_type": "code",
   "execution_count": 3,
   "id": "b93d5a1e",
   "metadata": {
    "executionInfo": {
     "elapsed": 817,
     "status": "ok",
     "timestamp": 1662577900480,
     "user": {
      "displayName": "ПІ-11 Практики",
      "userId": "07053419194244331719"
     },
     "user_tz": -180
    },
    "id": "b3ccad71"
   },
   "outputs": [],
   "source": [
    "import numpy as np\n",
    "import pandas as pd"
   ]
  },
  {
   "cell_type": "markdown",
   "id": "b8ab34df",
   "metadata": {
    "id": "55u4EkpaOWmk"
   },
   "source": []
  },
  {
   "cell_type": "code",
   "execution_count": 11,
   "id": "2816ba01",
   "metadata": {
    "colab": {
     "base_uri": "https://localhost:8080/"
    },
    "executionInfo": {
     "elapsed": 10260,
     "status": "ok",
     "timestamp": 1662577954885,
     "user": {
      "displayName": "ПІ-11 Практики",
      "userId": "07053419194244331719"
     },
     "user_tz": -180
    },
    "id": "f3501307",
    "outputId": "0f551c4b-d710-4235-9751-ebf5d1b65c83"
   },
   "outputs": [
    {
     "name": "stdout",
     "output_type": "stream",
     "text": [
      "<class 'pandas.core.frame.DataFrame'>\n",
      "RangeIndex: 1467832 entries, 0 to 1467831\n",
      "Data columns (total 63 columns):\n",
      " #   Column                      Non-Null Count    Dtype  \n",
      "---  ------                      --------------    -----  \n",
      " 0   total_sessions_day0         1466467 non-null  float64\n",
      " 1   total_sessions_day1         1466465 non-null  float64\n",
      " 2   total_sessions_day3         1466464 non-null  float64\n",
      " 3   total_sessions_day7         1466458 non-null  float64\n",
      " 4   chapters_finished_day0      1467832 non-null  int64  \n",
      " 5   chapters_finished_day1      1467832 non-null  int64  \n",
      " 6   chapters_finished_day3      1467832 non-null  int64  \n",
      " 7   chapters_finished_day7      1467832 non-null  int64  \n",
      " 8   chapters_opened_day0        1467832 non-null  int64  \n",
      " 9   chapters_opened_day1        1467832 non-null  int64  \n",
      " 10  chapters_opened_day3        1467832 non-null  int64  \n",
      " 11  chapters_opened_day7        1467832 non-null  int64  \n",
      " 12  chapters_closed_day0        1467832 non-null  int64  \n",
      " 13  chapters_closed_day1        1467832 non-null  int64  \n",
      " 14  chapters_closed_day3        1467832 non-null  int64  \n",
      " 15  chapters_closed_day7        1467832 non-null  int64  \n",
      " 16  diamonds_received_day0      1467832 non-null  int64  \n",
      " 17  diamonds_received_day1      1467832 non-null  int64  \n",
      " 18  diamonds_received_day3      1467832 non-null  int64  \n",
      " 19  diamonds_received_day7      1467832 non-null  int64  \n",
      " 20  diamonds_spent_day0         1467832 non-null  int64  \n",
      " 21  diamonds_spent_day1         1467832 non-null  int64  \n",
      " 22  diamonds_spent_day3         1467832 non-null  int64  \n",
      " 23  diamonds_spent_day7         1467832 non-null  int64  \n",
      " 24  tickets_spent_day0          1467832 non-null  int64  \n",
      " 25  tickets_spent_day1          1467832 non-null  int64  \n",
      " 26  tickets_spent_day3          1467832 non-null  int64  \n",
      " 27  tickets_spent_day7          1467832 non-null  int64  \n",
      " 28  retained_day1               1467832 non-null  int64  \n",
      " 29  retained_day3               1467832 non-null  int64  \n",
      " 30  retained_day7               1467832 non-null  int64  \n",
      " 31  chapters_finished_session1  1467832 non-null  int64  \n",
      " 32  chapters_finished_session3  1467832 non-null  int64  \n",
      " 33  chapters_finished_session9  1467832 non-null  int64  \n",
      " 34  chapters_opened_session1    1467832 non-null  int64  \n",
      " 35  chapters_opened_session3    1467832 non-null  int64  \n",
      " 36  chapters_opened_session9    1467832 non-null  int64  \n",
      " 37  chapters_closed_session1    1467832 non-null  int64  \n",
      " 38  chapters_closed_session3    1467832 non-null  int64  \n",
      " 39  chapters_closed_session9    1467832 non-null  int64  \n",
      " 40  diamonds_spent_session1     1467832 non-null  int64  \n",
      " 41  diamonds_spent_session3     1467832 non-null  int64  \n",
      " 42  diamonds_spent_session9     1467832 non-null  int64  \n",
      " 43  tickets_spent_session1      1467832 non-null  int64  \n",
      " 44  tickets_spent_session3      1467832 non-null  int64  \n",
      " 45  tickets_spent_session9      1467832 non-null  int64  \n",
      " 46  app_sub_ltv_day0            1467832 non-null  float64\n",
      " 47  app_sub_ltv_day1            1467832 non-null  float64\n",
      " 48  app_sub_ltv_day3            1467832 non-null  float64\n",
      " 49  app_iap_ltv_day0            1467832 non-null  float64\n",
      " 50  app_iap_ltv_day1            1467832 non-null  float64\n",
      " 51  app_iap_ltv_day3            1467832 non-null  float64\n",
      " 52  media_source                1467832 non-null  object \n",
      " 53  install_date                1467832 non-null  object \n",
      " 54  country_code                1467832 non-null  object \n",
      " 55  ad_ltv_day0                 1467832 non-null  float64\n",
      " 56  ad_ltv_day1                 1467832 non-null  float64\n",
      " 57  ad_ltv_day3                 1467832 non-null  float64\n",
      " 58  platform                    1467832 non-null  object \n",
      " 59  target_sub_ltv_day30        1467832 non-null  float64\n",
      " 60  target_iap_ltv_day30        1467832 non-null  float64\n",
      " 61  target_ad_ltv_day30         1467832 non-null  float64\n",
      " 62  target_full_ltv_day30       1467832 non-null  float64\n",
      "dtypes: float64(17), int64(42), object(4)\n",
      "memory usage: 705.5+ MB\n"
     ]
    }
   ],
   "source": [
    "df = pd.read_csv('/content/drive/MyDrive/Colab Notebooks/data.csv')\n",
    "df.info()"
   ]
  },
  {
   "cell_type": "code",
   "execution_count": 12,
   "id": "2b87cf60",
   "metadata": {
    "colab": {
     "base_uri": "https://localhost:8080/"
    },
    "executionInfo": {
     "elapsed": 405,
     "status": "ok",
     "timestamp": 1662577955286,
     "user": {
      "displayName": "ПІ-11 Практики",
      "userId": "07053419194244331719"
     },
     "user_tz": -180
    },
    "id": "275132d0",
    "outputId": "388d10cb-48c1-4ac8-a325-867d3ce41f90"
   },
   "outputs": [
    {
     "data": {
      "text/plain": [
       "total_sessions_day0       1365\n",
       "total_sessions_day1       1367\n",
       "total_sessions_day3       1368\n",
       "total_sessions_day7       1374\n",
       "chapters_finished_day0       0\n",
       "                          ... \n",
       "platform                     0\n",
       "target_sub_ltv_day30         0\n",
       "target_iap_ltv_day30         0\n",
       "target_ad_ltv_day30          0\n",
       "target_full_ltv_day30        0\n",
       "Length: 63, dtype: int64"
      ]
     },
     "execution_count": 12,
     "metadata": {},
     "output_type": "execute_result"
    }
   ],
   "source": [
    "df.isnull().sum()"
   ]
  },
  {
   "cell_type": "code",
   "execution_count": 13,
   "id": "441b0bd7",
   "metadata": {
    "executionInfo": {
     "elapsed": 4,
     "status": "ok",
     "timestamp": 1662577955286,
     "user": {
      "displayName": "ПІ-11 Практики",
      "userId": "07053419194244331719"
     },
     "user_tz": -180
    },
    "id": "4e57a423"
   },
   "outputs": [],
   "source": [
    "# Get rid of missing some values for columns\n",
    "# total_sessions_day, total_sessions_day1, total_sessions_day3, total_sessions_day7\n",
    "# We have got relatively not much missing data, so it won't affect the result"
   ]
  },
  {
   "cell_type": "code",
   "execution_count": 14,
   "id": "d11049d7",
   "metadata": {
    "executionInfo": {
     "elapsed": 1119,
     "status": "ok",
     "timestamp": 1662577956401,
     "user": {
      "displayName": "ПІ-11 Практики",
      "userId": "07053419194244331719"
     },
     "user_tz": -180
    },
    "id": "269ea5d0"
   },
   "outputs": [],
   "source": [
    "df = df.dropna()"
   ]
  },
  {
   "cell_type": "code",
   "execution_count": 15,
   "id": "7d1df292",
   "metadata": {
    "executionInfo": {
     "elapsed": 6,
     "status": "ok",
     "timestamp": 1662577956402,
     "user": {
      "displayName": "ПІ-11 Практики",
      "userId": "07053419194244331719"
     },
     "user_tz": -180
    },
    "id": "2e3f585c"
   },
   "outputs": [],
   "source": [
    "# Let's convert 'media_source', 'country_code' and 'platform' columns from categorical to dummies"
   ]
  },
  {
   "cell_type": "code",
   "execution_count": 16,
   "id": "27fe3acc",
   "metadata": {
    "executionInfo": {
     "elapsed": 1039,
     "status": "ok",
     "timestamp": 1662577957437,
     "user": {
      "displayName": "ПІ-11 Практики",
      "userId": "07053419194244331719"
     },
     "user_tz": -180
    },
    "id": "ee9cc4d5"
   },
   "outputs": [],
   "source": [
    "platform_dummies = pd.get_dummies(df['platform'], drop_first=True)\n",
    "df = df.drop(['platform'], axis=1)\n",
    "df = pd.concat([df, platform_dummies], axis=1)"
   ]
  },
  {
   "cell_type": "code",
   "execution_count": 17,
   "id": "73c78148",
   "metadata": {
    "executionInfo": {
     "elapsed": 852,
     "status": "ok",
     "timestamp": 1662577958286,
     "user": {
      "displayName": "ПІ-11 Практики",
      "userId": "07053419194244331719"
     },
     "user_tz": -180
    },
    "id": "5a114ba1"
   },
   "outputs": [],
   "source": [
    "media_source_dummies = pd.get_dummies(df['media_source'], drop_first=True)\n",
    "df = df.drop(['media_source'], axis=1)\n",
    "df = pd.concat([df, media_source_dummies], axis=1)"
   ]
  },
  {
   "cell_type": "code",
   "execution_count": 18,
   "id": "680b13f2",
   "metadata": {
    "executionInfo": {
     "elapsed": 2702,
     "status": "ok",
     "timestamp": 1662577960985,
     "user": {
      "displayName": "ПІ-11 Практики",
      "userId": "07053419194244331719"
     },
     "user_tz": -180
    },
    "id": "837e0c43"
   },
   "outputs": [],
   "source": [
    "country_code_dummies = pd.get_dummies(df['country_code'], drop_first=True)\n",
    "df = df.drop(['country_code'], axis=1)\n",
    "df = pd.concat([df, country_code_dummies], axis=1)"
   ]
  },
  {
   "cell_type": "code",
   "execution_count": 19,
   "id": "8cb00807",
   "metadata": {
    "executionInfo": {
     "elapsed": 1351,
     "status": "ok",
     "timestamp": 1662577965049,
     "user": {
      "displayName": "ПІ-11 Практики",
      "userId": "07053419194244331719"
     },
     "user_tz": -180
    },
    "id": "a21a25e8"
   },
   "outputs": [],
   "source": [
    "df = df.drop(['install_date'], axis=1)"
   ]
  },
  {
   "cell_type": "code",
   "execution_count": 20,
   "id": "4398eaab",
   "metadata": {
    "colab": {
     "base_uri": "https://localhost:8080/"
    },
    "executionInfo": {
     "elapsed": 297,
     "status": "ok",
     "timestamp": 1662577965339,
     "user": {
      "displayName": "ПІ-11 Практики",
      "userId": "07053419194244331719"
     },
     "user_tz": -180
    },
    "id": "90170b75",
    "outputId": "70cb2a44-9060-4598-85ee-af80b26d6800"
   },
   "outputs": [
    {
     "name": "stdout",
     "output_type": "stream",
     "text": [
      "<class 'pandas.core.frame.DataFrame'>\n",
      "Int64Index: 1466458 entries, 0 to 1467831\n",
      "Data columns (total 306 columns):\n",
      " #    Column                      Dtype  \n",
      "---   ------                      -----  \n",
      " 0    total_sessions_day0         float64\n",
      " 1    total_sessions_day1         float64\n",
      " 2    total_sessions_day3         float64\n",
      " 3    total_sessions_day7         float64\n",
      " 4    chapters_finished_day0      int64  \n",
      " 5    chapters_finished_day1      int64  \n",
      " 6    chapters_finished_day3      int64  \n",
      " 7    chapters_finished_day7      int64  \n",
      " 8    chapters_opened_day0        int64  \n",
      " 9    chapters_opened_day1        int64  \n",
      " 10   chapters_opened_day3        int64  \n",
      " 11   chapters_opened_day7        int64  \n",
      " 12   chapters_closed_day0        int64  \n",
      " 13   chapters_closed_day1        int64  \n",
      " 14   chapters_closed_day3        int64  \n",
      " 15   chapters_closed_day7        int64  \n",
      " 16   diamonds_received_day0      int64  \n",
      " 17   diamonds_received_day1      int64  \n",
      " 18   diamonds_received_day3      int64  \n",
      " 19   diamonds_received_day7      int64  \n",
      " 20   diamonds_spent_day0         int64  \n",
      " 21   diamonds_spent_day1         int64  \n",
      " 22   diamonds_spent_day3         int64  \n",
      " 23   diamonds_spent_day7         int64  \n",
      " 24   tickets_spent_day0          int64  \n",
      " 25   tickets_spent_day1          int64  \n",
      " 26   tickets_spent_day3          int64  \n",
      " 27   tickets_spent_day7          int64  \n",
      " 28   retained_day1               int64  \n",
      " 29   retained_day3               int64  \n",
      " 30   retained_day7               int64  \n",
      " 31   chapters_finished_session1  int64  \n",
      " 32   chapters_finished_session3  int64  \n",
      " 33   chapters_finished_session9  int64  \n",
      " 34   chapters_opened_session1    int64  \n",
      " 35   chapters_opened_session3    int64  \n",
      " 36   chapters_opened_session9    int64  \n",
      " 37   chapters_closed_session1    int64  \n",
      " 38   chapters_closed_session3    int64  \n",
      " 39   chapters_closed_session9    int64  \n",
      " 40   diamonds_spent_session1     int64  \n",
      " 41   diamonds_spent_session3     int64  \n",
      " 42   diamonds_spent_session9     int64  \n",
      " 43   tickets_spent_session1      int64  \n",
      " 44   tickets_spent_session3      int64  \n",
      " 45   tickets_spent_session9      int64  \n",
      " 46   app_sub_ltv_day0            float64\n",
      " 47   app_sub_ltv_day1            float64\n",
      " 48   app_sub_ltv_day3            float64\n",
      " 49   app_iap_ltv_day0            float64\n",
      " 50   app_iap_ltv_day1            float64\n",
      " 51   app_iap_ltv_day3            float64\n",
      " 52   ad_ltv_day0                 float64\n",
      " 53   ad_ltv_day1                 float64\n",
      " 54   ad_ltv_day3                 float64\n",
      " 55   target_sub_ltv_day30        float64\n",
      " 56   target_iap_ltv_day30        float64\n",
      " 57   target_ad_ltv_day30         float64\n",
      " 58   target_full_ltv_day30       float64\n",
      " 59   ios                         uint8  \n",
      " 60   SOURCE_1                    uint8  \n",
      " 61   SOURCE_10                   uint8  \n",
      " 62   SOURCE_11                   uint8  \n",
      " 63   SOURCE_12                   uint8  \n",
      " 64   SOURCE_13                   uint8  \n",
      " 65   SOURCE_14                   uint8  \n",
      " 66   SOURCE_15                   uint8  \n",
      " 67   SOURCE_16                   uint8  \n",
      " 68   SOURCE_17                   uint8  \n",
      " 69   SOURCE_18                   uint8  \n",
      " 70   SOURCE_19                   uint8  \n",
      " 71   SOURCE_2                    uint8  \n",
      " 72   SOURCE_20                   uint8  \n",
      " 73   SOURCE_21                   uint8  \n",
      " 74   SOURCE_22                   uint8  \n",
      " 75   SOURCE_23                   uint8  \n",
      " 76   SOURCE_3                    uint8  \n",
      " 77   SOURCE_4                    uint8  \n",
      " 78   SOURCE_5                    uint8  \n",
      " 79   SOURCE_6                    uint8  \n",
      " 80   SOURCE_7                    uint8  \n",
      " 81   SOURCE_8                    uint8  \n",
      " 82   SOURCE_9                    uint8  \n",
      " 83   COUNTRY_1                   uint8  \n",
      " 84   COUNTRY_10                  uint8  \n",
      " 85   COUNTRY_100                 uint8  \n",
      " 86   COUNTRY_101                 uint8  \n",
      " 87   COUNTRY_102                 uint8  \n",
      " 88   COUNTRY_103                 uint8  \n",
      " 89   COUNTRY_104                 uint8  \n",
      " 90   COUNTRY_105                 uint8  \n",
      " 91   COUNTRY_106                 uint8  \n",
      " 92   COUNTRY_107                 uint8  \n",
      " 93   COUNTRY_108                 uint8  \n",
      " 94   COUNTRY_109                 uint8  \n",
      " 95   COUNTRY_11                  uint8  \n",
      " 96   COUNTRY_110                 uint8  \n",
      " 97   COUNTRY_111                 uint8  \n",
      " 98   COUNTRY_112                 uint8  \n",
      " 99   COUNTRY_113                 uint8  \n",
      " 100  COUNTRY_114                 uint8  \n",
      " 101  COUNTRY_115                 uint8  \n",
      " 102  COUNTRY_116                 uint8  \n",
      " 103  COUNTRY_117                 uint8  \n",
      " 104  COUNTRY_118                 uint8  \n",
      " 105  COUNTRY_119                 uint8  \n",
      " 106  COUNTRY_12                  uint8  \n",
      " 107  COUNTRY_120                 uint8  \n",
      " 108  COUNTRY_121                 uint8  \n",
      " 109  COUNTRY_122                 uint8  \n",
      " 110  COUNTRY_123                 uint8  \n",
      " 111  COUNTRY_124                 uint8  \n",
      " 112  COUNTRY_125                 uint8  \n",
      " 113  COUNTRY_126                 uint8  \n",
      " 114  COUNTRY_127                 uint8  \n",
      " 115  COUNTRY_128                 uint8  \n",
      " 116  COUNTRY_129                 uint8  \n",
      " 117  COUNTRY_13                  uint8  \n",
      " 118  COUNTRY_130                 uint8  \n",
      " 119  COUNTRY_131                 uint8  \n",
      " 120  COUNTRY_132                 uint8  \n",
      " 121  COUNTRY_133                 uint8  \n",
      " 122  COUNTRY_134                 uint8  \n",
      " 123  COUNTRY_135                 uint8  \n",
      " 124  COUNTRY_136                 uint8  \n",
      " 125  COUNTRY_137                 uint8  \n",
      " 126  COUNTRY_138                 uint8  \n",
      " 127  COUNTRY_139                 uint8  \n",
      " 128  COUNTRY_14                  uint8  \n",
      " 129  COUNTRY_140                 uint8  \n",
      " 130  COUNTRY_141                 uint8  \n",
      " 131  COUNTRY_142                 uint8  \n",
      " 132  COUNTRY_143                 uint8  \n",
      " 133  COUNTRY_144                 uint8  \n",
      " 134  COUNTRY_145                 uint8  \n",
      " 135  COUNTRY_146                 uint8  \n",
      " 136  COUNTRY_147                 uint8  \n",
      " 137  COUNTRY_148                 uint8  \n",
      " 138  COUNTRY_149                 uint8  \n",
      " 139  COUNTRY_15                  uint8  \n",
      " 140  COUNTRY_150                 uint8  \n",
      " 141  COUNTRY_151                 uint8  \n",
      " 142  COUNTRY_152                 uint8  \n",
      " 143  COUNTRY_153                 uint8  \n",
      " 144  COUNTRY_154                 uint8  \n",
      " 145  COUNTRY_155                 uint8  \n",
      " 146  COUNTRY_156                 uint8  \n",
      " 147  COUNTRY_157                 uint8  \n",
      " 148  COUNTRY_158                 uint8  \n",
      " 149  COUNTRY_159                 uint8  \n",
      " 150  COUNTRY_16                  uint8  \n",
      " 151  COUNTRY_160                 uint8  \n",
      " 152  COUNTRY_161                 uint8  \n",
      " 153  COUNTRY_162                 uint8  \n",
      " 154  COUNTRY_163                 uint8  \n",
      " 155  COUNTRY_164                 uint8  \n",
      " 156  COUNTRY_165                 uint8  \n",
      " 157  COUNTRY_166                 uint8  \n",
      " 158  COUNTRY_167                 uint8  \n",
      " 159  COUNTRY_168                 uint8  \n",
      " 160  COUNTRY_169                 uint8  \n",
      " 161  COUNTRY_17                  uint8  \n",
      " 162  COUNTRY_170                 uint8  \n",
      " 163  COUNTRY_171                 uint8  \n",
      " 164  COUNTRY_172                 uint8  \n",
      " 165  COUNTRY_173                 uint8  \n",
      " 166  COUNTRY_174                 uint8  \n",
      " 167  COUNTRY_175                 uint8  \n",
      " 168  COUNTRY_176                 uint8  \n",
      " 169  COUNTRY_177                 uint8  \n",
      " 170  COUNTRY_178                 uint8  \n",
      " 171  COUNTRY_179                 uint8  \n",
      " 172  COUNTRY_18                  uint8  \n",
      " 173  COUNTRY_180                 uint8  \n",
      " 174  COUNTRY_181                 uint8  \n",
      " 175  COUNTRY_182                 uint8  \n",
      " 176  COUNTRY_183                 uint8  \n",
      " 177  COUNTRY_184                 uint8  \n",
      " 178  COUNTRY_185                 uint8  \n",
      " 179  COUNTRY_186                 uint8  \n",
      " 180  COUNTRY_187                 uint8  \n",
      " 181  COUNTRY_188                 uint8  \n",
      " 182  COUNTRY_189                 uint8  \n",
      " 183  COUNTRY_19                  uint8  \n",
      " 184  COUNTRY_190                 uint8  \n",
      " 185  COUNTRY_191                 uint8  \n",
      " 186  COUNTRY_192                 uint8  \n",
      " 187  COUNTRY_193                 uint8  \n",
      " 188  COUNTRY_194                 uint8  \n",
      " 189  COUNTRY_195                 uint8  \n",
      " 190  COUNTRY_196                 uint8  \n",
      " 191  COUNTRY_197                 uint8  \n",
      " 192  COUNTRY_198                 uint8  \n",
      " 193  COUNTRY_199                 uint8  \n",
      " 194  COUNTRY_2                   uint8  \n",
      " 195  COUNTRY_20                  uint8  \n",
      " 196  COUNTRY_200                 uint8  \n",
      " 197  COUNTRY_201                 uint8  \n",
      " 198  COUNTRY_202                 uint8  \n",
      " 199  COUNTRY_203                 uint8  \n",
      " 200  COUNTRY_204                 uint8  \n",
      " 201  COUNTRY_205                 uint8  \n",
      " 202  COUNTRY_206                 uint8  \n",
      " 203  COUNTRY_207                 uint8  \n",
      " 204  COUNTRY_208                 uint8  \n",
      " 205  COUNTRY_209                 uint8  \n",
      " 206  COUNTRY_21                  uint8  \n",
      " 207  COUNTRY_210                 uint8  \n",
      " 208  COUNTRY_211                 uint8  \n",
      " 209  COUNTRY_212                 uint8  \n",
      " 210  COUNTRY_213                 uint8  \n",
      " 211  COUNTRY_214                 uint8  \n",
      " 212  COUNTRY_215                 uint8  \n",
      " 213  COUNTRY_216                 uint8  \n",
      " 214  COUNTRY_217                 uint8  \n",
      " 215  COUNTRY_218                 uint8  \n",
      " 216  COUNTRY_219                 uint8  \n",
      " 217  COUNTRY_22                  uint8  \n",
      " 218  COUNTRY_220                 uint8  \n",
      " 219  COUNTRY_221                 uint8  \n",
      " 220  COUNTRY_222                 uint8  \n",
      " 221  COUNTRY_223                 uint8  \n",
      " 222  COUNTRY_23                  uint8  \n",
      " 223  COUNTRY_24                  uint8  \n",
      " 224  COUNTRY_25                  uint8  \n",
      " 225  COUNTRY_26                  uint8  \n",
      " 226  COUNTRY_27                  uint8  \n",
      " 227  COUNTRY_28                  uint8  \n",
      " 228  COUNTRY_29                  uint8  \n",
      " 229  COUNTRY_3                   uint8  \n",
      " 230  COUNTRY_30                  uint8  \n",
      " 231  COUNTRY_31                  uint8  \n",
      " 232  COUNTRY_32                  uint8  \n",
      " 233  COUNTRY_33                  uint8  \n",
      " 234  COUNTRY_34                  uint8  \n",
      " 235  COUNTRY_35                  uint8  \n",
      " 236  COUNTRY_36                  uint8  \n",
      " 237  COUNTRY_37                  uint8  \n",
      " 238  COUNTRY_38                  uint8  \n",
      " 239  COUNTRY_39                  uint8  \n",
      " 240  COUNTRY_4                   uint8  \n",
      " 241  COUNTRY_40                  uint8  \n",
      " 242  COUNTRY_41                  uint8  \n",
      " 243  COUNTRY_42                  uint8  \n",
      " 244  COUNTRY_43                  uint8  \n",
      " 245  COUNTRY_44                  uint8  \n",
      " 246  COUNTRY_45                  uint8  \n",
      " 247  COUNTRY_46                  uint8  \n",
      " 248  COUNTRY_47                  uint8  \n",
      " 249  COUNTRY_48                  uint8  \n",
      " 250  COUNTRY_49                  uint8  \n",
      " 251  COUNTRY_5                   uint8  \n",
      " 252  COUNTRY_50                  uint8  \n",
      " 253  COUNTRY_51                  uint8  \n",
      " 254  COUNTRY_52                  uint8  \n",
      " 255  COUNTRY_53                  uint8  \n",
      " 256  COUNTRY_54                  uint8  \n",
      " 257  COUNTRY_55                  uint8  \n",
      " 258  COUNTRY_56                  uint8  \n",
      " 259  COUNTRY_57                  uint8  \n",
      " 260  COUNTRY_58                  uint8  \n",
      " 261  COUNTRY_59                  uint8  \n",
      " 262  COUNTRY_6                   uint8  \n",
      " 263  COUNTRY_60                  uint8  \n",
      " 264  COUNTRY_61                  uint8  \n",
      " 265  COUNTRY_62                  uint8  \n",
      " 266  COUNTRY_63                  uint8  \n",
      " 267  COUNTRY_64                  uint8  \n",
      " 268  COUNTRY_65                  uint8  \n",
      " 269  COUNTRY_66                  uint8  \n",
      " 270  COUNTRY_67                  uint8  \n",
      " 271  COUNTRY_68                  uint8  \n",
      " 272  COUNTRY_69                  uint8  \n",
      " 273  COUNTRY_7                   uint8  \n",
      " 274  COUNTRY_70                  uint8  \n",
      " 275  COUNTRY_71                  uint8  \n",
      " 276  COUNTRY_72                  uint8  \n",
      " 277  COUNTRY_73                  uint8  \n",
      " 278  COUNTRY_74                  uint8  \n",
      " 279  COUNTRY_75                  uint8  \n",
      " 280  COUNTRY_76                  uint8  \n",
      " 281  COUNTRY_77                  uint8  \n",
      " 282  COUNTRY_78                  uint8  \n",
      " 283  COUNTRY_79                  uint8  \n",
      " 284  COUNTRY_8                   uint8  \n",
      " 285  COUNTRY_80                  uint8  \n",
      " 286  COUNTRY_81                  uint8  \n",
      " 287  COUNTRY_82                  uint8  \n",
      " 288  COUNTRY_83                  uint8  \n",
      " 289  COUNTRY_84                  uint8  \n",
      " 290  COUNTRY_85                  uint8  \n",
      " 291  COUNTRY_86                  uint8  \n",
      " 292  COUNTRY_87                  uint8  \n",
      " 293  COUNTRY_88                  uint8  \n",
      " 294  COUNTRY_89                  uint8  \n",
      " 295  COUNTRY_9                   uint8  \n",
      " 296  COUNTRY_90                  uint8  \n",
      " 297  COUNTRY_91                  uint8  \n",
      " 298  COUNTRY_92                  uint8  \n",
      " 299  COUNTRY_93                  uint8  \n",
      " 300  COUNTRY_94                  uint8  \n",
      " 301  COUNTRY_95                  uint8  \n",
      " 302  COUNTRY_96                  uint8  \n",
      " 303  COUNTRY_97                  uint8  \n",
      " 304  COUNTRY_98                  uint8  \n",
      " 305  COUNTRY_99                  uint8  \n",
      "dtypes: float64(17), int64(42), uint8(247)\n",
      "memory usage: 1016.7 MB\n"
     ]
    }
   ],
   "source": [
    "df.info(verbose = True)"
   ]
  },
  {
   "cell_type": "markdown",
   "id": "c8a008e2",
   "metadata": {
    "id": "5025a490"
   },
   "source": [
    "from sklearn.model_selection import train_test_split\n",
    "\n",
    "X = df.drop('target_full_ltv_day30',axis=1).values\n",
    "y = df['target_full_ltv_day30'].values\n",
    "\n",
    "X_train, X_test, y_train, y_test = train_test_split(X, y, test_size=0.3, random_state=101)"
   ]
  },
  {
   "cell_type": "code",
   "execution_count": 21,
   "id": "ed203099",
   "metadata": {
    "executionInfo": {
     "elapsed": 13119,
     "status": "ok",
     "timestamp": 1662578004398,
     "user": {
      "displayName": "ПІ-11 Практики",
      "userId": "07053419194244331719"
     },
     "user_tz": -180
    },
    "id": "03369b1f"
   },
   "outputs": [],
   "source": [
    "from sklearn.model_selection import train_test_split\n",
    "\n",
    "X = df.drop('target_full_ltv_day30',axis=1).values\n",
    "y = df['target_full_ltv_day30'].values\n",
    "\n",
    "X_train, X_test, y_train, y_test = train_test_split(X, y, test_size=0.001, random_state=69)"
   ]
  },
  {
   "cell_type": "code",
   "execution_count": null,
   "id": "4c458be8",
   "metadata": {
    "id": "3c24ed65"
   },
   "outputs": [],
   "source": [
    "from sklearn.preprocessing import MinMaxScaler\n",
    "scaler = MinMaxScaler()\n",
    "X_train = scaler.fit_transform(X_train)\n",
    "X_test = scaler.transform(X_test)"
   ]
  },
  {
   "cell_type": "code",
   "execution_count": null,
   "id": "433c1f07",
   "metadata": {
    "id": "0114d39b"
   },
   "outputs": [],
   "source": [
    "import tensorflow as tf\n",
    "from tensorflow.keras.models import Sequential\n",
    "from tensorflow.keras.layers import Dense, Activation, Dropout\n",
    "from tensorflow.keras.constraints import max_norm"
   ]
  },
  {
   "cell_type": "code",
   "execution_count": null,
   "id": "8dc2699b",
   "metadata": {
    "id": "3ae31082"
   },
   "outputs": [],
   "source": [
    "model = Sequential()\n",
    "\n",
    "model.add(Dense(305, activation='relu'))\n",
    "model.add(Dense(172, activation='relu'))\n",
    "model.add(Dense(76, activation='relu'))\n",
    "model.add(Dense(38, activation='relu'))\n",
    "model.add(Dense(19, activation='relu'))\n",
    "model.add(Dense(1,))\n",
    "\n",
    "model.compile(optimizer='Adam', loss = 'rmse')"
   ]
  }
 ],
 "metadata": {
  "colab": {
   "collapsed_sections": [],
   "provenance": []
  },
  "kernelspec": {
   "display_name": "Python 3 (ipykernel)",
   "language": "python",
   "name": "python3"
  },
  "language_info": {
   "codemirror_mode": {
    "name": "ipython",
    "version": 3
   },
   "file_extension": ".py",
   "mimetype": "text/x-python",
   "name": "python",
   "nbconvert_exporter": "python",
   "pygments_lexer": "ipython3",
   "version": "3.8.5"
  }
 },
 "nbformat": 4,
 "nbformat_minor": 5
}
