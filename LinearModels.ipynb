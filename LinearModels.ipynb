{
  "nbformat": 4,
  "nbformat_minor": 0,
  "metadata": {
    "colab": {
      "provenance": []
    },
    "kernelspec": {
      "name": "python3",
      "display_name": "Python 3"
    },
    "language_info": {
      "name": "python"
    }
  },
  "cells": [
    {
      "cell_type": "code",
      "execution_count": 1,
      "metadata": {
        "colab": {
          "base_uri": "https://localhost:8080/",
          "height": 109
        },
        "id": "P0bqvEyARw7M",
        "outputId": "11de9048-8e47-42d8-e38d-89ea9ab8c452"
      },
      "outputs": [
        {
          "output_type": "stream",
          "name": "stderr",
          "text": [
            "Downloading...\n",
            "From: https://drive.google.com/uc?id=1mL9uvzYPuk_mNabWbDIUGpGxd0pFWuBo\n",
            "To: /content/data.csv\n",
            "100%|██████████| 322M/322M [00:03<00:00, 99.9MB/s]\n"
          ]
        },
        {
          "output_type": "execute_result",
          "data": {
            "text/plain": [
              "'data.csv'"
            ],
            "application/vnd.google.colaboratory.intrinsic+json": {
              "type": "string"
            }
          },
          "metadata": {},
          "execution_count": 1
        }
      ],
      "source": [
        "import gdown\n",
        "url = 'https://drive.google.com/uc?id=1mL9uvzYPuk_mNabWbDIUGpGxd0pFWuBo' \n",
        "output = 'data.csv'\n",
        "gdown.download(url, output, quiet=False)"
      ]
    },
    {
      "cell_type": "code",
      "source": [
        "import numpy as np\n",
        "import pandas as pd\n",
        "import matplotlib.pyplot as plt\n",
        "from sklearn.metrics import mean_absolute_error, mean_squared_error, mean_absolute_percentage_error"
      ],
      "metadata": {
        "id": "QpM21a9fR68Q"
      },
      "execution_count": 2,
      "outputs": []
    },
    {
      "cell_type": "code",
      "source": [
        "from sklearn.preprocessing import MinMaxScaler\n",
        "from sklearn.model_selection import train_test_split"
      ],
      "metadata": {
        "id": "xbh_nOjXR9Oy"
      },
      "execution_count": 3,
      "outputs": []
    },
    {
      "cell_type": "code",
      "source": [],
      "metadata": {
        "id": "z8a26byBY_PS"
      },
      "execution_count": 3,
      "outputs": []
    },
    {
      "cell_type": "code",
      "source": [
        "def get_classification_data(path: str, sample_size = 50000):\n",
        "    df = pd.read_csv(path)\n",
        "    \n",
        "    df = df.dropna()\n",
        "    df.describe()\n",
        "    \n",
        "    platform_dummies = pd.get_dummies(df['platform'], drop_first=True)\n",
        "    df = df.drop(['platform'],axis=1)\n",
        "    df = pd.concat([df, platform_dummies],axis=1)\n",
        "    \n",
        "    media_source_dummies = pd.get_dummies(df['media_source'], drop_first=True)\n",
        "    df = df.drop(['media_source'], axis=1)\n",
        "    df = pd.concat([df, media_source_dummies], axis=1)\n",
        "   \n",
        "    country_code_dummies = pd.get_dummies(df['country_code'], drop_first=True)\n",
        "    df = df.drop(['country_code'], axis=1)\n",
        "    df = pd.concat([df, country_code_dummies], axis=1)\n",
        "    \n",
        "    df = df.drop(['install_date'], axis=1)\n",
        "    df = df.sample(sample_size)\n",
        "    Y = df[['target_full_ltv_day30']]\n",
        "    \n",
        "\n",
        "    \n",
        "    df.drop(['target_sub_ltv_day30', 'target_iap_ltv_day30', 'target_ad_ltv_day30', 'target_full_ltv_day30'], axis = 1, inplace = True)\n",
        "    \n",
        "    return df, Y"
      ],
      "metadata": {
        "id": "SGlGHtU0R04Q"
      },
      "execution_count": 4,
      "outputs": []
    },
    {
      "cell_type": "code",
      "source": [
        "X, Y = get_classification_data('data.csv')"
      ],
      "metadata": {
        "id": "yUGoO7N6R5Qu"
      },
      "execution_count": 5,
      "outputs": []
    },
    {
      "cell_type": "code",
      "source": [
        "from sklearn.model_selection import train_test_split\n",
        "\n",
        "def split(X, y):\n",
        "    return train_test_split(X, y, test_size=0.001)\n",
        "X_train, X_test, y_train, y_test = split(X, Y)"
      ],
      "metadata": {
        "id": "NT7Jjz5mS8UR"
      },
      "execution_count": 6,
      "outputs": []
    },
    {
      "cell_type": "code",
      "source": [
        "X_train.shape"
      ],
      "metadata": {
        "colab": {
          "base_uri": "https://localhost:8080/"
        },
        "id": "RhHYabJSTKZS",
        "outputId": "9f966df5-63a2-407a-f06b-2384886de6b8"
      },
      "execution_count": 7,
      "outputs": [
        {
          "output_type": "execute_result",
          "data": {
            "text/plain": [
              "(49950, 302)"
            ]
          },
          "metadata": {},
          "execution_count": 7
        }
      ]
    },
    {
      "cell_type": "code",
      "source": [
        "y_train.shape"
      ],
      "metadata": {
        "colab": {
          "base_uri": "https://localhost:8080/"
        },
        "id": "MpTy9NwNTOyp",
        "outputId": "c4f7dd98-ce80-41dc-a641-11acacf80db3"
      },
      "execution_count": 8,
      "outputs": [
        {
          "output_type": "execute_result",
          "data": {
            "text/plain": [
              "(49950, 1)"
            ]
          },
          "metadata": {},
          "execution_count": 8
        }
      ]
    },
    {
      "cell_type": "markdown",
      "source": [
        "### **Linear Regression**"
      ],
      "metadata": {
        "id": "AvFLX6VCXjJo"
      }
    },
    {
      "cell_type": "code",
      "source": [
        "from sklearn.linear_model import LinearRegression\n",
        "reg = LinearRegression()\n",
        "fitted = reg.fit(X_train, y_train)"
      ],
      "metadata": {
        "id": "buxcwq6zR6Yw"
      },
      "execution_count": 9,
      "outputs": []
    },
    {
      "cell_type": "code",
      "source": [
        "fitted.score(X_train, y_train)"
      ],
      "metadata": {
        "colab": {
          "base_uri": "https://localhost:8080/"
        },
        "id": "bDvu86POTMvI",
        "outputId": "66427fc8-1c41-40d4-abae-fd8e93d88187"
      },
      "execution_count": 10,
      "outputs": [
        {
          "output_type": "execute_result",
          "data": {
            "text/plain": [
              "0.8477400552128159"
            ]
          },
          "metadata": {},
          "execution_count": 10
        }
      ]
    },
    {
      "cell_type": "code",
      "source": [
        "prediction = fitted.predict(X_test)\n",
        "prediction = np.where(prediction > 0, prediction, 0)"
      ],
      "metadata": {
        "id": "tPiJrtdyTEOm"
      },
      "execution_count": 11,
      "outputs": []
    },
    {
      "cell_type": "code",
      "source": [
        "print(\"MAE: \", mean_absolute_error(prediction, y_test))\n",
        "print(\"MAPE: \", mean_absolute_percentage_error(prediction, y_test))\n",
        "print(\"RMSE: \", mean_squared_error(prediction, y_test, squared=False))"
      ],
      "metadata": {
        "colab": {
          "base_uri": "https://localhost:8080/"
        },
        "id": "X4512zwfTi1e",
        "outputId": "44358c61-105b-4e57-8568-09a7f93a3d54"
      },
      "execution_count": 12,
      "outputs": [
        {
          "output_type": "stream",
          "name": "stdout",
          "text": [
            "MAE:  0.12341260604099384\n",
            "MAPE:  28317303649179.656\n",
            "RMSE:  0.5799096508063304\n"
          ]
        }
      ]
    },
    {
      "cell_type": "code",
      "source": [],
      "metadata": {
        "id": "8jFa5ad7TkIV"
      },
      "execution_count": 12,
      "outputs": []
    },
    {
      "cell_type": "markdown",
      "source": [
        "## Support Machine Regresion"
      ],
      "metadata": {
        "id": "ostX7Mi0ZdCq"
      }
    },
    {
      "cell_type": "code",
      "source": [
        "from tables.tests.common import verbosePrint\n",
        "from sklearn.svm import SVR\n",
        "from sklearn.pipeline import make_pipeline\n",
        "from sklearn.preprocessing import StandardScaler\n",
        "\n",
        "n_samples, n_features = 10, 5\n",
        "rng = np.random.RandomState(0)\n",
        "\n",
        "X = rng.randn(n_samples, n_features)\n",
        "regr = make_pipeline(StandardScaler(), SVR(C=1.0, epsilon=0.2))\n",
        "\n",
        "regr.fit(X_train, y_train)"
      ],
      "metadata": {
        "colab": {
          "base_uri": "https://localhost:8080/"
        },
        "id": "Nia5Pim7TnsD",
        "outputId": "e1d8f8f0-46ab-4cf0-c586-cb40d637126d"
      },
      "execution_count": 13,
      "outputs": [
        {
          "output_type": "stream",
          "name": "stderr",
          "text": [
            "/usr/local/lib/python3.7/dist-packages/sklearn/utils/validation.py:993: DataConversionWarning: A column-vector y was passed when a 1d array was expected. Please change the shape of y to (n_samples, ), for example using ravel().\n",
            "  y = column_or_1d(y, warn=True)\n"
          ]
        },
        {
          "output_type": "execute_result",
          "data": {
            "text/plain": [
              "Pipeline(steps=[('standardscaler', StandardScaler()),\n",
              "                ('svr', SVR(epsilon=0.2))])"
            ]
          },
          "metadata": {},
          "execution_count": 13
        }
      ]
    },
    {
      "cell_type": "code",
      "source": [
        "prediction = regr.predict(X_test)\n",
        "prediction = np.where(prediction > 0, prediction, 0)\n"
      ],
      "metadata": {
        "id": "P1Iqxo_uUXOM"
      },
      "execution_count": 14,
      "outputs": []
    },
    {
      "cell_type": "code",
      "source": [
        "print(\"MAE: \", mean_absolute_error(prediction, y_test))\n",
        "print(\"MAPE: \", mean_absolute_percentage_error(prediction, y_test))\n",
        "print(\"RMSE: \", mean_squared_error(prediction, y_test, squared=False))"
      ],
      "metadata": {
        "colab": {
          "base_uri": "https://localhost:8080/"
        },
        "id": "fKn62Gi3VFp0",
        "outputId": "b7e9f4ed-3389-4eaf-8adc-418049ad3d01"
      },
      "execution_count": 15,
      "outputs": [
        {
          "output_type": "stream",
          "name": "stdout",
          "text": [
            "MAE:  0.19636675954045044\n",
            "MAPE:  1278836536780.3887\n",
            "RMSE:  0.6948330550569647\n"
          ]
        }
      ]
    },
    {
      "cell_type": "markdown",
      "source": [
        "### **Random Forest**"
      ],
      "metadata": {
        "id": "1jblEsbvacBO"
      }
    },
    {
      "cell_type": "code",
      "source": [
        "from sklearn.ensemble import RandomForestRegressor"
      ],
      "metadata": {
        "id": "IsjylGWzVHtI"
      },
      "execution_count": 16,
      "outputs": []
    },
    {
      "cell_type": "code",
      "source": [
        "regr = RandomForestRegressor(max_depth=200)"
      ],
      "metadata": {
        "id": "fZ6Jv0_kV425"
      },
      "execution_count": 17,
      "outputs": []
    },
    {
      "cell_type": "code",
      "source": [
        "regr.fit(X_train, y_train)"
      ],
      "metadata": {
        "colab": {
          "base_uri": "https://localhost:8080/"
        },
        "id": "hhwravb-V8uQ",
        "outputId": "2ab7ea62-3473-4098-c22e-930018ca34bb"
      },
      "execution_count": 18,
      "outputs": [
        {
          "output_type": "stream",
          "name": "stderr",
          "text": [
            "/usr/local/lib/python3.7/dist-packages/ipykernel_launcher.py:1: DataConversionWarning: A column-vector y was passed when a 1d array was expected. Please change the shape of y to (n_samples,), for example using ravel().\n",
            "  \"\"\"Entry point for launching an IPython kernel.\n"
          ]
        },
        {
          "output_type": "execute_result",
          "data": {
            "text/plain": [
              "RandomForestRegressor(max_depth=200)"
            ]
          },
          "metadata": {},
          "execution_count": 18
        }
      ]
    },
    {
      "cell_type": "code",
      "source": [
        "prediction = regr.predict(X_test)\n",
        "prediction = np.where(prediction > 0, prediction, 0)\n"
      ],
      "metadata": {
        "id": "MmltvhypV_qu"
      },
      "execution_count": 19,
      "outputs": []
    },
    {
      "cell_type": "code",
      "source": [
        "print(\"MAE: \", mean_absolute_error(prediction, y_test))\n",
        "print(\"MAPE: \", mean_absolute_percentage_error(prediction, y_test))\n",
        "print(\"RMSE: \", mean_squared_error(prediction, y_test, squared=False))"
      ],
      "metadata": {
        "colab": {
          "base_uri": "https://localhost:8080/"
        },
        "id": "-OiDmRvnWCLx",
        "outputId": "00bba038-f680-487b-cbcb-28cd76699d42"
      },
      "execution_count": 20,
      "outputs": [
        {
          "output_type": "stream",
          "name": "stdout",
          "text": [
            "MAE:  0.11181994491413594\n",
            "MAPE:  0.14056582348564806\n",
            "RMSE:  0.6314756599889025\n"
          ]
        }
      ]
    },
    {
      "cell_type": "code",
      "source": [],
      "metadata": {
        "id": "R1A8FKdqbD4I"
      },
      "execution_count": 20,
      "outputs": []
    },
    {
      "cell_type": "markdown",
      "source": [
        "### **Increasing depth of tree**"
      ],
      "metadata": {
        "id": "gLWMr1MMdD3B"
      }
    },
    {
      "cell_type": "code",
      "source": [
        "regr = RandomForestRegressor(max_depth=500)"
      ],
      "metadata": {
        "id": "kSGZoUTFdKpG"
      },
      "execution_count": 21,
      "outputs": []
    },
    {
      "cell_type": "code",
      "source": [
        "regr.fit(X_train, y_train)"
      ],
      "metadata": {
        "colab": {
          "base_uri": "https://localhost:8080/"
        },
        "id": "ffNi2070dP4l",
        "outputId": "da552e5d-f4c6-4e78-e54b-132c71a43314"
      },
      "execution_count": 22,
      "outputs": [
        {
          "output_type": "stream",
          "name": "stderr",
          "text": [
            "/usr/local/lib/python3.7/dist-packages/ipykernel_launcher.py:1: DataConversionWarning: A column-vector y was passed when a 1d array was expected. Please change the shape of y to (n_samples,), for example using ravel().\n",
            "  \"\"\"Entry point for launching an IPython kernel.\n"
          ]
        },
        {
          "output_type": "execute_result",
          "data": {
            "text/plain": [
              "RandomForestRegressor(max_depth=500)"
            ]
          },
          "metadata": {},
          "execution_count": 22
        }
      ]
    },
    {
      "cell_type": "code",
      "source": [
        "prediction = regr.predict(X_test)\n",
        "prediction = np.where(prediction > 0, prediction, 0)\n"
      ],
      "metadata": {
        "id": "CFHUl_6rdQLe"
      },
      "execution_count": 23,
      "outputs": []
    },
    {
      "cell_type": "code",
      "source": [
        "print(\"MAE: \", mean_absolute_error(prediction, y_test))\n",
        "print(\"MAPE: \", mean_absolute_percentage_error(prediction, y_test))\n",
        "print(\"RMSE: \", mean_squared_error(prediction, y_test, squared=False))"
      ],
      "metadata": {
        "colab": {
          "base_uri": "https://localhost:8080/"
        },
        "id": "f91OKPaCdTYf",
        "outputId": "b1e35ee1-8631-4c97-bfd5-d462c6022c0e"
      },
      "execution_count": 24,
      "outputs": [
        {
          "output_type": "stream",
          "name": "stdout",
          "text": [
            "MAE:  0.1081600275801501\n",
            "MAPE:  0.15402044533772355\n",
            "RMSE:  0.6177095718580563\n"
          ]
        }
      ]
    },
    {
      "cell_type": "markdown",
      "source": [
        "### **Gausian Regression**"
      ],
      "metadata": {
        "id": "5YCFC9nmgtZU"
      }
    },
    {
      "cell_type": "code",
      "source": [
        "from sklearn.datasets import make_friedman2\n",
        "from sklearn.gaussian_process import GaussianProcessRegressor\n",
        "from sklearn.gaussian_process.kernels import DotProduct, WhiteKernel"
      ],
      "metadata": {
        "id": "eWLwTpazgyEJ"
      },
      "execution_count": 25,
      "outputs": []
    },
    {
      "cell_type": "code",
      "source": [
        "kernel = DotProduct() + WhiteKernel()\n",
        "# NOT ENOUGH RAM  !!!\n",
        "#gpr = GaussianProcessRegressor(kernel=kernel,\n",
        "#         random_state=0).fit(X_train, y_train)"
      ],
      "metadata": {
        "id": "inA_GP6Mg3Fe"
      },
      "execution_count": null,
      "outputs": []
    },
    {
      "cell_type": "code",
      "source": [
        "#prediction = gpr.predict(X_test)\n",
        "#prediction = np.where(prediction > 0, prediction, 0)"
      ],
      "metadata": {
        "id": "iZY-mbaVg-Z4"
      },
      "execution_count": null,
      "outputs": []
    }
  ]
}