{
 "cells": [
  {
   "cell_type": "code",
   "execution_count": 1,
   "id": "998367d9",
   "metadata": {},
   "outputs": [],
   "source": [
    "from sklearn.metrics import mean_absolute_percentage_error, mean_absolute_error, mean_squared_error\n",
    "from tensorboard.backend.event_processing.event_accumulator import EventAccumulator\n",
    "from sklearn.preprocessing import MinMaxScaler\n",
    "from sklearn.model_selection import train_test_split\n",
    "import numpy as np\n",
    "import pandas as pd\n",
    "import tensorflow as tf\n",
    "from tensorflow.keras.layers import Dense, Dropout, BatchNormalization\n",
    "from tensorflow.keras import metrics\n",
    "import os\n"
   ]
  },
  {
   "cell_type": "code",
   "execution_count": 2,
   "id": "5e787929",
   "metadata": {},
   "outputs": [],
   "source": [
    "class DeepModel(tf.keras.models.Sequential):\n",
    "\n",
    "    def __init__(self, model_file=None,\n",
    "                 loss_func='mean_absolute_error',\n",
    "                 n_input_layer=305,\n",
    "                 number_of_hidden_layers=5,\n",
    "                 neurons_hidden_layer=305,\n",
    "                 neurons_output_layer=4,\n",
    "                 dropout=True,\n",
    "                 dropout_rate=0.2,\n",
    "                 metrics=[\n",
    "                     metrics.RootMeanSquaredError(),\n",
    "                     metrics.MeanAbsoluteError(),\n",
    "                     metrics.MeanAbsolutePercentageError()],\n",
    "                 * args, **kwargs):\n",
    "\n",
    "        super(DeepModel, self).__init__(*args, **kwargs)\n",
    "\n",
    "  \n",
    "\n",
    "        for i in range(1, number_of_hidden_layers+1):\n",
    "                    \n",
    "            self.add(Dense(\n",
    "                neurons_hidden_layer / i, activation='relu'))\n",
    "            \n",
    "            if dropout:\n",
    "                self.add(Dropout(dropout_rate))\n",
    "\n",
    "        self.add(Dense(\n",
    "            neurons_output_layer, activation='linear'))\n",
    "\n",
    "        if (loss_func == 'mean_absolute_error'):\n",
    "            self.compile(optimizer='Adam',\n",
    "                         loss='mean_absolute_error', metrics=metrics)\n",
    "\n",
    "        elif (loss_func == 'mean_squared_error'):\n",
    "            self.compile(optimizer='Adam',\n",
    "                         loss='mean_squared_error', metrics=metrics)\n",
    "\n",
    "        elif (loss_func == 'mean_squared_logarithmic_error'):\n",
    "            self.compile(\n",
    "                optimizer='Adam', loss='mean_squared_logarithmic_error', metrics=metrics)\n",
    "\n",
    "\n",
    "\n",
    "\n"
   ]
  },
  {
   "cell_type": "code",
   "execution_count": 3,
   "id": "89e8097a",
   "metadata": {},
   "outputs": [],
   "source": [
    "def get_data(path: str):\n",
    "    df = pd.read_csv(path)\n",
    "\n",
    "    df = df.dropna()\n",
    "    df.describe()\n",
    "\n",
    "    platform_dummies = pd.get_dummies(df['platform'], drop_first=True)\n",
    "    df = df.drop(['platform'], axis=1)\n",
    "    df = pd.concat([df, platform_dummies], axis=1)\n",
    "\n",
    "    media_source_dummies = pd.get_dummies(df['media_source'], drop_first=True)\n",
    "    df = df.drop(['media_source'], axis=1)\n",
    "    df = pd.concat([df, media_source_dummies], axis=1)\n",
    "\n",
    "    country_code_dummies = pd.get_dummies(df['country_code'], drop_first=True)\n",
    "    df = df.drop(['country_code'], axis=1)\n",
    "    df = pd.concat([df, country_code_dummies], axis=1)\n",
    "\n",
    "    df = df.drop(['install_date'], axis=1)\n",
    "\n",
    "    Y = df[['target_sub_ltv_day30', 'target_iap_ltv_day30',\n",
    "            'target_ad_ltv_day30', 'target_full_ltv_day30']]\n",
    "\n",
    "    df.drop(['target_sub_ltv_day30', 'target_iap_ltv_day30',\n",
    "            'target_ad_ltv_day30', 'target_full_ltv_day30'], axis=1, inplace=True)\n",
    "\n",
    "    return df, Y\n",
    "\n",
    "\n",
    "def split(X, y):\n",
    "    return train_test_split(X, y, test_size=0.001)\n",
    "\n",
    "\n",
    "def preprocess(X_train, X_test):\n",
    "\n",
    "    scaler = MinMaxScaler()\n",
    "    X_train = scaler.fit_transform(X_train)\n",
    "    X_test = scaler.transform(X_test)\n",
    "    return X_train, X_test\n",
    "\n"
   ]
  },
  {
   "cell_type": "code",
   "execution_count": null,
   "id": "5d09176c",
   "metadata": {},
   "outputs": [],
   "source": [
    "X, y = get_data('data.csv')\n",
    "\n",
    "pd_X_train, pd_X_test, pd_y_train, pd_y_test = split(X, y)\n",
    "del X, y\n",
    "\n",
    "\n",
    "X_train = pd_X_train.values\n",
    "y_train = pd_y_train.values\n",
    "\n",
    "del pd_X_train, pd_y_train"
   ]
  },
  {
   "cell_type": "code",
   "execution_count": null,
   "id": "85e93714",
   "metadata": {},
   "outputs": [],
   "source": [
    "model = DeepModel( number_of_hidden_layers=5,\n",
    "                 neurons_hidden_layer=305,\n",
    "                 neurons_output_layer=3, dropout = False)"
   ]
  },
  {
   "cell_type": "code",
   "execution_count": null,
   "id": "c41e2035",
   "metadata": {},
   "outputs": [],
   "source": [
    "stopping = tf.keras.callbacks.EarlyStopping(\n",
    "                        monitor=\"val_loss\", patience=4)\n",
    "\n",
    "history = model.fit(\n",
    "                        X_train, y_train, verbose=1, epochs=EPOCHS,\n",
    "                        validation_data=(pd_X_test, pd_y_test), callbacks=[stopping])"
   ]
  },
  {
   "cell_type": "code",
   "execution_count": null,
   "id": "12f4e348",
   "metadata": {},
   "outputs": [],
   "source": [
    "model.save(\"DeepModel1\")"
   ]
  },
  {
   "cell_type": "code",
   "execution_count": null,
   "id": "19b53e45",
   "metadata": {},
   "outputs": [],
   "source": [
    "# model = tf.keras.models.load_model(\"DeepModel\")"
   ]
  }
 ],
 "metadata": {
  "kernelspec": {
   "display_name": "Python 3 (ipykernel)",
   "language": "python",
   "name": "python3"
  },
  "language_info": {
   "codemirror_mode": {
    "name": "ipython",
    "version": 3
   },
   "file_extension": ".py",
   "mimetype": "text/x-python",
   "name": "python",
   "nbconvert_exporter": "python",
   "pygments_lexer": "ipython3",
   "version": "3.8.5"
  }
 },
 "nbformat": 4,
 "nbformat_minor": 5
}
